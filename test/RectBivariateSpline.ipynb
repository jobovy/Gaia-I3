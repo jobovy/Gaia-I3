{
 "cells": [
  {
   "cell_type": "code",
   "execution_count": 4,
   "metadata": {},
   "outputs": [],
   "source": [
    "import numpy as np\n",
    "from scipy.interpolate import RectBivariateSpline as interpolation"
   ]
  },
  {
   "cell_type": "code",
   "execution_count": 9,
   "metadata": {},
   "outputs": [],
   "source": [
    "R_linspace = np.linspace(1, 10, 10)\n",
    "z_linspace = np.linspace(1, 10, 10)\n",
    "grid = np.empty((10, 10))\n",
    "for i, R in enumerate(R_linspace):\n",
    "    for j, z in enumerate(z_linspace):\n",
    "        grid[i][j] = R*z"
   ]
  },
  {
   "cell_type": "code",
   "execution_count": 10,
   "metadata": {},
   "outputs": [],
   "source": [
    "ip = interpolation(R_linspace, z_linspace, grid)"
   ]
  },
  {
   "cell_type": "code",
   "execution_count": 19,
   "metadata": {},
   "outputs": [
    {
     "data": {
      "text/plain": [
       "array([ 2., 12., 30., 56.])"
      ]
     },
     "execution_count": 19,
     "metadata": {},
     "output_type": "execute_result"
    }
   ],
   "source": [
    "to_evaluate = np.array([[1, 2], [3,4], [5,6], [7,8]])\n",
    "to_evaluate_x = to_evaluate[:, 0]\n",
    "to_evaluate_y = to_evaluate[:, 1]\n",
    "ip.ev(to_evaluate_x, to_evaluate_y)"
   ]
  },
  {
   "cell_type": "code",
   "execution_count": null,
   "metadata": {},
   "outputs": [],
   "source": []
  }
 ],
 "metadata": {
  "kernelspec": {
   "display_name": "Python 3",
   "language": "python",
   "name": "python3"
  },
  "language_info": {
   "codemirror_mode": {
    "name": "ipython",
    "version": 3
   },
   "file_extension": ".py",
   "mimetype": "text/x-python",
   "name": "python",
   "nbconvert_exporter": "python",
   "pygments_lexer": "ipython3",
   "version": "3.6.4"
  }
 },
 "nbformat": 4,
 "nbformat_minor": 2
}
