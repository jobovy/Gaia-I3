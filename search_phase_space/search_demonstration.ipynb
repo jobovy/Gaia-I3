{
 "cells": [
  {
   "cell_type": "markdown",
   "metadata": {},
   "source": [
    "This notebook explains and demonstrates the use of the search_phase_space function. All coordinate transformations are dervied from Bovy (2011). [https://github.com/jobovy/stellarkinematics/blob/master/stellarkinematics.pdf]\n",
    "\n",
    "To convert from ICRS coordinates to rectangular galactic coordinates, the function first fetches the ra and dec of the north galactic pole, $\\alpha_{\\textrm{NGP}}$ and $\\delta_{\\textrm{NGP}}$ in ICRS using galpy. These are used to calculate the sine and cosine of the galactic parallactic angle $\\phi$ for each star, according to the equations:\n",
    "\n",
    "$$\\cos \\phi = \\frac{\\sin \\delta_{\\textrm{NGP}} - \\sin \\delta \\sin b}{\\cos \\delta \\cos b}$$"
   ]
  },
  {
   "cell_type": "markdown",
   "metadata": {},
   "source": [
    "$$\\sin \\phi = \\frac{\\sin(\\alpha - \\alpha_{\\textrm{NGP}})\\cos \\delta_{\\textrm{NGP}}}{\\cos b}$$\n",
    "\n",
    "Where $\\alpha$ and $\\delta$ are the ra and dec of the star whose coordinates are being converted, and $b$ is its galactic latitude. These are then used to calculate the star's proper motion in $b$ and in its galactic longitude $l$ according to the equation:\n",
    "\n",
    "$$\\mu_{l} \\cos b = \\mu_{\\alpha} \\cos{\\delta} \\cos{\\phi} + \\mu_{\\delta} \\sin{\\phi}$$"
   ]
  },
  {
   "cell_type": "markdown",
   "metadata": {},
   "source": [
    "$$\\mu_{b} = \\mu_{\\delta} \\cos{\\phi} - \\mu_{\\alpha} \\cos{\\delta} \\sin{\\phi}$$\n",
    "\n",
    "Note that in the code, $\\textrm{pmra} \\equiv \\mu_{\\alpha} \\cos{\\delta}$ and $\\textrm{pml} \\equiv \\mu_{l} \\cos b$.\n",
    "\n",
    "After this, the program calculates $x$, $y$, and $z$ in galactic rectangular coordinates according to:\n",
    "\n",
    "$$x = d \\cos b \\cos l$$"
   ]
  },
  {
   "cell_type": "markdown",
   "metadata": {},
   "source": [
    "$$y = d \\cos b \\sin l$$"
   ]
  },
  {
   "cell_type": "markdown",
   "metadata": {},
   "source": [
    "$$z = d \\sin b$$\n",
    "\n",
    "Where $d$ is the distance to the star. Taking the time derivative of these equations allows us to calculate $v_x$, $v_y$, and $v_z$:\n",
    "\n",
    "$$v_x = v_r \\cos b \\cos l - d \\mu_b \\sin b \\cos l - d \\mu_l \\cos b \\sin l$$"
   ]
  },
  {
   "cell_type": "markdown",
   "metadata": {},
   "source": [
    "$$v_y = v_r \\cos b \\sin l - d \\mu_b \\sin b \\sin l + d \\mu_l \\cos b \\cos l$$"
   ]
  },
  {
   "cell_type": "markdown",
   "metadata": {},
   "source": [
    "$$v_z = v_r \\sin b + d \\mu_b \\cos b$$\n",
    "\n",
    "Where $d$ is the distance to the star. In the code, a conversion factor $k$ is used in the velocity equations to convert $\\textrm{kpc mas/yr}$ to $\\textrm{km/s}$. Once the units have been converted, the query checks for stars satisfying the equation:\n",
    "\n",
    "$$\\sqrt{(x-x_o)^2 + (y-y_0)^2 + (z-z_0)^2 + (A(v_x - v_{x_0}))^2 + (A(v_y - v_{y_0}))^2 + (A(v_z - v_{z_0}))^2} < \\epsilon$$\n",
    "\n",
    "Where $A$ is a scale factor that can be adjusted to weight the velocities similarly to the positions. Example usages are below."
   ]
  },
  {
   "cell_type": "code",
   "execution_count": 1,
   "metadata": {},
   "outputs": [
    {
     "name": "stdout",
     "output_type": "stream",
     "text": [
      "Created TAP+ (v1.0.1) - Connection:\n",
      "\tHost: gea.esac.esa.int\n",
      "\tUse HTTPS: False\n",
      "\tPort: 80\n",
      "\tSSL Port: 443\n"
     ]
    }
   ],
   "source": [
    "from search_phase_space import *"
   ]
  },
  {
   "cell_type": "code",
   "execution_count": 2,
   "metadata": {},
   "outputs": [
    {
     "name": "stdout",
     "output_type": "stream",
     "text": [
      "Help on function search_phase_space in module search_phase_space:\n",
      "\n",
      "search_phase_space(x, y, z, vx, vy, vz, epsilon, v_scale=1.0, cone_r=None)\n",
      "    NAME:\n",
      "        search_phase_space\n",
      "        \n",
      "    PURPOSE:\n",
      "        query the Gaia DR2 RV catalogue for stars near a point in phase space\n",
      "        \n",
      "    INPUT:\n",
      "        x - rectangular x coordinate in the galactic frame (can be Quantity,\n",
      "        otherwise given in kpc)\n",
      "        \n",
      "        y - rectangular y coordinate in the galactic frame (can be Quantity,\n",
      "        otherwise given in kpc)\n",
      "        \n",
      "        z - rectangular z coordinate in the galactic frame (can be Quantity,\n",
      "        otherwise given in kpc)\n",
      "        \n",
      "        vx - x velocity in the galactic frame (can be Quantity, otherwise given\n",
      "        in km/s)\n",
      "        \n",
      "        vy - y velocity in the galactic frame (can be Quantity, otherwise given\n",
      "        in km/s)\n",
      "        \n",
      "        vz - z velocity in the galactic frame (can be Quantity, otherwise given\n",
      "        in km/s)\n",
      "        \n",
      "        epsilon - radius in phase space in which to search for stars\n",
      "        \n",
      "        v_scale - scale factor for velocities used when calculating phase space\n",
      "        distances (optional; default = 1.0)\n",
      "        \n",
      "        cone_r - cone search radius used to limit the initial size of the \n",
      "        query; if None, will use the minimal cone that completely encompasses\n",
      "        the search sphere in physical space (optional; given in degrees;\n",
      "        default = None)\n",
      "        \n",
      "    OUTPUT:\n",
      "        astropy Table, containing stars from the Gaia DR2 RV catalogue that are\n",
      "        within a distance of epsilon from the point (x, y, z, vx, vy, vz)\n",
      "\n"
     ]
    }
   ],
   "source": [
    "help(search_phase_space)"
   ]
  },
  {
   "cell_type": "code",
   "execution_count": 3,
   "metadata": {},
   "outputs": [
    {
     "name": "stdout",
     "output_type": "stream",
     "text": [
      "Query finished.\n"
     ]
    },
    {
     "data": {
      "text/html": [
       "<i>Table masked=True length=4</i>\n",
       "<table id=\"table1962796341960\" class=\"table-striped table-bordered table-condensed\">\n",
       "<thead><tr><th>x</th><th>y</th><th>z</th><th>vx</th><th>vy</th><th>vz</th></tr></thead>\n",
       "<thead><tr><th>float64</th><th>float64</th><th>float64</th><th>float64</th><th>float64</th><th>float64</th></tr></thead>\n",
       "<tr><td>0.3248547285099525</td><td>0.3279740455677438</td><td>0.3153034498744913</td><td>-0.29035230958035463</td><td>-5.1796266147947</td><td>-4.353165870439843</td></tr>\n",
       "<tr><td>0.2188858173997254</td><td>0.2178464318294424</td><td>0.22580041586685468</td><td>-1.275905453220787</td><td>3.428241380577102</td><td>-1.4298321419533973</td></tr>\n",
       "<tr><td>0.12780404047322055</td><td>0.12814092607639407</td><td>0.13156138199108242</td><td>1.046825144670162</td><td>3.4067004099763505</td><td>-1.123290133914609</td></tr>\n",
       "<tr><td>0.2843689575919812</td><td>0.2885781542557433</td><td>0.29174504457791295</td><td>-4.331893530634634</td><td>2.6449143076819963</td><td>6.045735212272312</td></tr>\n",
       "</table>"
      ],
      "text/plain": [
       "<Table masked=True length=4>\n",
       "         x                   y          ...          vz        \n",
       "      float64             float64       ...       float64      \n",
       "------------------- ------------------- ... -------------------\n",
       " 0.3248547285099525  0.3279740455677438 ...  -4.353165870439843\n",
       " 0.2188858173997254  0.2178464318294424 ... -1.4298321419533973\n",
       "0.12780404047322055 0.12814092607639407 ...  -1.123290133914609\n",
       " 0.2843689575919812  0.2885781542557433 ...   6.045735212272312"
      ]
     },
     "execution_count": 3,
     "metadata": {},
     "output_type": "execute_result"
    }
   ],
   "source": [
    "table = search_phase_space(1,1,1,1,1,1,10,cone_r=1.0)\n",
    "table['x','y','z','vx','vy','vz']"
   ]
  },
  {
   "cell_type": "markdown",
   "metadata": {},
   "source": [
    "We will get different results if we adjust v_scale or epsilon."
   ]
  },
  {
   "cell_type": "code",
   "execution_count": 4,
   "metadata": {},
   "outputs": [
    {
     "name": "stdout",
     "output_type": "stream",
     "text": [
      "Query finished.\n"
     ]
    },
    {
     "data": {
      "text/plain": [
       "300"
      ]
     },
     "execution_count": 4,
     "metadata": {},
     "output_type": "execute_result"
    }
   ],
   "source": [
    "table = search_phase_space(1,1,1,1,1,1,10,cone_r=1.0,v_scale=0.01)\n",
    "len(table)"
   ]
  },
  {
   "cell_type": "code",
   "execution_count": 5,
   "metadata": {},
   "outputs": [
    {
     "name": "stdout",
     "output_type": "stream",
     "text": [
      "Query finished.\n"
     ]
    },
    {
     "data": {
      "text/plain": [
       "241"
      ]
     },
     "execution_count": 5,
     "metadata": {},
     "output_type": "execute_result"
    }
   ],
   "source": [
    "table = search_phase_space(1,1,1,1,1,1,100,cone_r=1.0)\n",
    "len(table)"
   ]
  },
  {
   "cell_type": "markdown",
   "metadata": {},
   "source": [
    "We can also change the initial search radius. This will allow us to check more stars, but will slow down the query."
   ]
  },
  {
   "cell_type": "code",
   "execution_count": 6,
   "metadata": {},
   "outputs": [
    {
     "name": "stdout",
     "output_type": "stream",
     "text": [
      "Query finished.\n",
      "Wall time: 6.48 s\n",
      "Query finished.\n",
      "Wall time: 8.28 s\n",
      "Query finished.\n",
      "Wall time: 19.1 s\n"
     ]
    }
   ],
   "source": [
    "%time table0 = search_phase_space(1,1,1,1,1,1,10,cone_r=1.0)\n",
    "%time table1 = search_phase_space(1,1,1,1,1,1,10,cone_r=5.0)\n",
    "%time table2 = search_phase_space(1,1,1,1,1,1,10,cone_r=10.0)"
   ]
  },
  {
   "cell_type": "code",
   "execution_count": 7,
   "metadata": {},
   "outputs": [
    {
     "data": {
      "text/plain": [
       "(4, 68, 312)"
      ]
     },
     "execution_count": 7,
     "metadata": {},
     "output_type": "execute_result"
    }
   ],
   "source": [
    "len(table0), len(table1), len(table2)"
   ]
  },
  {
   "cell_type": "code",
   "execution_count": null,
   "metadata": {},
   "outputs": [
    {
     "data": {
      "text/html": [
       "<i>Table masked=True length=312</i>\n",
       "<table id=\"table1962482067608\" class=\"table-striped table-bordered table-condensed\">\n",
       "<thead><tr><th>x</th><th>y</th><th>z</th><th>vx</th><th>vy</th><th>vz</th></tr></thead>\n",
       "<thead><tr><th>float64</th><th>float64</th><th>float64</th><th>float64</th><th>float64</th><th>float64</th></tr></thead>\n",
       "<tr><td>0.16351177301492636</td><td>0.20967086726815753</td><td>0.17170827057914312</td><td>5.007038168658844</td><td>-5.682057274359033</td><td>3.170360553207343</td></tr>\n",
       "<tr><td>0.11991166392645726</td><td>0.09274697055003087</td><td>0.13076461265609785</td><td>-1.8656472920941969</td><td>0.6451364718064411</td><td>-1.4451070652991378</td></tr>\n",
       "<tr><td>0.24538553972665322</td><td>0.17922668423598098</td><td>0.25854831313742505</td><td>-1.0488419344827302</td><td>7.722052385780204</td><td>1.5919957093000883</td></tr>\n",
       "<tr><td>0.5862335720419103</td><td>0.4079657249550528</td><td>0.6177366918912254</td><td>-4.243596474243831</td><td>-4.491349178841477</td><td>-2.205186284387413</td></tr>\n",
       "<tr><td>0.37299120418406456</td><td>0.26536909556021476</td><td>0.3897092992017556</td><td>3.8762811910623576</td><td>-5.643842192029282</td><td>-2.902144773623549</td></tr>\n",
       "<tr><td>0.2635157495689372</td><td>0.18538711101100866</td><td>0.27676805528664905</td><td>8.647591791880037</td><td>0.8181813660317027</td><td>-4.068180081473987</td></tr>\n",
       "<tr><td>0.1498358840130167</td><td>0.10869398590374628</td><td>0.16540172957859245</td><td>-4.31159345079178</td><td>1.2221947891316831</td><td>-5.390067092844093</td></tr>\n",
       "<tr><td>0.05279017187520276</td><td>0.03886285924095198</td><td>0.05848680893002437</td><td>1.5123623387606568</td><td>-0.3313365259577292</td><td>-1.7068390104272426</td></tr>\n",
       "<tr><td>0.14468619608274713</td><td>0.10633360032470704</td><td>0.16444671085387466</td><td>3.3903564922764433</td><td>8.404732465333476</td><td>4.3317073730660365</td></tr>\n",
       "<tr><td>0.20173328634326818</td><td>0.15835794148223897</td><td>0.23560735796732946</td><td>-1.2211045141384829</td><td>7.430002156574614</td><td>2.449128565882801</td></tr>\n",
       "<tr><td>...</td><td>...</td><td>...</td><td>...</td><td>...</td><td>...</td></tr>\n",
       "<tr><td>0.09533158756403008</td><td>0.09165954641478029</td><td>0.10682927870600978</td><td>-3.3454333487449954</td><td>2.7440400601362134</td><td>4.860830191735211</td></tr>\n",
       "<tr><td>0.8925001873413371</td><td>0.8503439420923021</td><td>0.6537113939682332</td><td>6.395436408840764</td><td>-4.157487141415146</td><td>-4.0225585464586695</td></tr>\n",
       "<tr><td>0.18547028958139625</td><td>0.23049454130725408</td><td>0.20740782098592997</td><td>-7.127716702667277</td><td>2.556973454817496</td><td>3.241541888537749</td></tr>\n",
       "<tr><td>0.17850722749321965</td><td>0.2218442681460574</td><td>0.19962091061605736</td><td>-5.202489872685307</td><td>1.6723797223560757</td><td>0.7585462818010651</td></tr>\n",
       "<tr><td>0.18626893032338598</td><td>0.23241067918056918</td><td>0.21058581940024124</td><td>-2.100166649300506</td><td>-6.019446461256397</td><td>-0.8894448618186623</td></tr>\n",
       "<tr><td>0.36551621845819693</td><td>0.35619664044785687</td><td>0.4125078555408934</td><td>6.576229262754273</td><td>4.860239713309209</td><td>-4.626638049868408</td></tr>\n",
       "<tr><td>0.22827413569878086</td><td>0.22374637863866836</td><td>0.2591423201972664</td><td>8.667945426805268</td><td>-0.49836178665723896</td><td>0.519474551436101</td></tr>\n",
       "<tr><td>0.1961304015152566</td><td>0.2420645824134102</td><td>0.2071900441208234</td><td>-5.678215154926213</td><td>2.8490161766355357</td><td>-4.473182934123071</td></tr>\n",
       "<tr><td>-0.2654732950759631</td><td>-0.2531645721459648</td><td>-0.17736831950924103</td><td>1.9785426169067122</td><td>-2.932160771147509</td><td>-4.604540292146414</td></tr>\n",
       "<tr><td>0.226693635912011</td><td>0.2275111024420173</td><td>0.2632543827386361</td><td>-3.0471296491801003</td><td>1.0409733718670884</td><td>0.3322962812631597</td></tr>\n",
       "</table>"
      ],
      "text/plain": [
       "<Table masked=True length=312>\n",
       "         x                   y          ...          vz        \n",
       "      float64             float64       ...       float64      \n",
       "------------------- ------------------- ... -------------------\n",
       "0.16351177301492636 0.20967086726815753 ...   3.170360553207343\n",
       "0.11991166392645726 0.09274697055003087 ... -1.4451070652991378\n",
       "0.24538553972665322 0.17922668423598098 ...  1.5919957093000883\n",
       " 0.5862335720419103  0.4079657249550528 ...  -2.205186284387413\n",
       "0.37299120418406456 0.26536909556021476 ...  -2.902144773623549\n",
       " 0.2635157495689372 0.18538711101100866 ...  -4.068180081473987\n",
       " 0.1498358840130167 0.10869398590374628 ...  -5.390067092844093\n",
       "0.05279017187520276 0.03886285924095198 ... -1.7068390104272426\n",
       "0.14468619608274713 0.10633360032470704 ...  4.3317073730660365\n",
       "0.20173328634326818 0.15835794148223897 ...   2.449128565882801\n",
       "                ...                 ... ...                 ...\n",
       "0.09533158756403008 0.09165954641478029 ...   4.860830191735211\n",
       " 0.8925001873413371  0.8503439420923021 ... -4.0225585464586695\n",
       "0.18547028958139625 0.23049454130725408 ...   3.241541888537749\n",
       "0.17850722749321965  0.2218442681460574 ...  0.7585462818010651\n",
       "0.18626893032338598 0.23241067918056918 ... -0.8894448618186623\n",
       "0.36551621845819693 0.35619664044785687 ...  -4.626638049868408\n",
       "0.22827413569878086 0.22374637863866836 ...   0.519474551436101\n",
       " 0.1961304015152566  0.2420645824134102 ...  -4.473182934123071\n",
       "-0.2654732950759631 -0.2531645721459648 ...  -4.604540292146414\n",
       "  0.226693635912011  0.2275111024420173 ...  0.3322962812631597"
      ]
     },
     "execution_count": 8,
     "metadata": {},
     "output_type": "execute_result"
    }
   ],
   "source": [
    "table2['x','y','z','vx','vy','vz']"
   ]
  },
  {
   "cell_type": "markdown",
   "metadata": {},
   "source": [
    "Scaling the velocities to be similar to the positions allows us to reduce the value of epsilon."
   ]
  },
  {
   "cell_type": "code",
   "execution_count": null,
   "metadata": {},
   "outputs": [],
   "source": [
    "table = search_phase_space(1,1,1,1,1,1,1,cone_r=10.0,v_scale=0.1)\n",
    "table['x','y','z','vx','vy','vz']"
   ]
  },
  {
   "cell_type": "markdown",
   "metadata": {},
   "source": [
    "### Update 2018-05-26\n",
    "The function now performs a distance check to further limit the initial size of the query. If $d$ is the distance to the search point from the Sun and $p$ is the parallax of a star, then the query is now limited to stars where $\\left|d-\\frac{1}{p}\\right|<\\epsilon$. This limits the search to a spherical shell centred around the Sun with inner radius $d-\\epsilon$ and outer radius $d+\\epsilon$.\n",
    "\n",
    "The behaviour of the cone search has also been modified. If cone_r is set to None, then the function will compute the minimal cone radius such that the entire physical search sphere is encompassed by the cone. The calculations for this are shown below.\n",
    "\n",
    "Consider a 2D cross section of the search sphere centred at the origin, and suppose the Sun is at point $(d, 0)$. The upper portion of the cross section is described by $f(x)=\\sqrt{(\\epsilon^2-x^2)}$. Thus, we have $f'(x)=-\\frac{x}{\\sqrt{(\\epsilon^2-x^2)}}$. The edge of the minimal cone will the be the tangent line of $f(x)$ that intersects $(d,0)$. It can be shown that the point on the circle where this occurs is at $x=\\frac{\\epsilon^2}{d}$. Setting $h=d-\\frac{\\epsilon^2}{d}$ and $r=f(\\frac{\\epsilon^2}{d})$, we have the radius of the cone in degrees is $\\arctan(\\frac{r}{h})$.\n",
    "\n",
    "A visual demonstration of the new behaviour can be seen here: https://www.desmos.com/calculator/ezmhltuapi. The search area is the intersection of the red and blue areas.\n",
    "\n",
    "If the Sun is contained in the search radius, then only the distance check will be used, and the cone search will be skipped. If cone_r is set manually, however, the cone search will be done no matter what."
   ]
  }
 ],
 "metadata": {
  "kernelspec": {
   "display_name": "Python 3",
   "language": "python",
   "name": "python3"
  },
  "language_info": {
   "codemirror_mode": {
    "name": "ipython",
    "version": 3
   },
   "file_extension": ".py",
   "mimetype": "text/x-python",
   "name": "python",
   "nbconvert_exporter": "python",
   "pygments_lexer": "ipython3",
   "version": "3.6.1"
  }
 },
 "nbformat": 4,
 "nbformat_minor": 2
}
