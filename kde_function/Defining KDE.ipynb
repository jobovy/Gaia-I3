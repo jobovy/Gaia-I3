{
 "cells": [
  {
   "cell_type": "code",
   "execution_count": 4,
   "metadata": {},
   "outputs": [],
   "source": [
    "#Importing the required modules\n",
    "import numpy as np\n",
    "from sklearn.neighbors import KernelDensity\n",
    "\n",
    "#Defining a KDE function to quickly compute probabilities for the data set\n",
    "def KDE(inputs, samples, ker, bw):\n",
    "    \"\"\"\n",
    "    Takes an NxM matrix for inputs and a QxM matrix for samples, a string for ker and a float for bw to output\n",
    "    a 1xQ array of density values.\n",
    "    \n",
    "    Args:\n",
    "        inputs (ndarray): NxM matrix, N = # of data points, M = # of parameters.\n",
    "        samples (ndarray): QxM matrix, Q = # of points being evaluated, M = # of parameters.\n",
    "        ker (string): One of the 6 avaliable kernel types (gaussian, tophat, epanechnikov, exponential, linear, cosine)\n",
    "        bw (float): Bandwidth of the kernel as a dimensionless float.\n",
    "    Returns:\n",
    "        dens (ndarray): 1xQ array of density values for Q data points.\n",
    "    \n",
    "    \"\"\"\n",
    "    kde = KernelDensity(kernel=ker, bandwidth=bw).fit(inputs) #Fit data points to selected kernel and bandwidth\n",
    "    log_dens = kde.score_samples(samples)                     #Get the log density for the selected samples\n",
    "    dens = np.exp(log_dens)                                   #Apply exponential to get normal density from log\n",
    "    return dens                                               #Return a 1xQ array of probabilities"
   ]
  },
  {
   "cell_type": "code",
   "execution_count": 5,
   "metadata": {},
   "outputs": [
    {
     "name": "stdout",
     "output_type": "stream",
     "text": [
      "[[1, 40.09090909090909, -363.81818181818187, 4.636363636363637, 2.1818181818181817, 9.363636363636363], [1, 39.90909090909091, -362.18181818181813, 2.1818181818181817, 7.0, 6.909090909090909], [1, 21.0, -192.0, 8.363636363636363, 1.2727272727272727, 2.3636363636363638], [1, 39.45454545454545, -358.09090909090907, 7.818181818181818, 3.0, 7.545454545454546], [1, 31.636363636363637, -287.72727272727275, 4.181818181818182, 3.3636363636363638, 5.909090909090909], [1, 30.454545454545453, -277.09090909090907, 7.454545454545455, 3.4545454545454546, 4.363636363636363], [1, 34.54545454545455, -313.90909090909093, 6.363636363636364, 6.181818181818182, 4.272727272727273], [1, 19.363636363636363, -177.27272727272725, 2.0, 4.7272727272727275, 1.6363636363636362], [1, 27.90909090909091, -254.1818181818182, 7.181818181818182, 2.1818181818181817, 4.454545454545455], [1, 35.54545454545455, -322.90909090909093, 5.363636363636363, 5.0, 5.7272727272727275]]\n"
     ]
    }
   ],
   "source": [
    "#Testing with mock data\n",
    "import random\n",
    "\n",
    "mock_data3 = [] # tuples in 6 dimensions\n",
    "for i in range(10):\n",
    "    select_random = np.linspace(1.0, 10.0, 100) # 1.0 and 10.0 are arbitrary\n",
    "    x4 = random.choice(select_random)\n",
    "    x5 = random.choice(select_random)\n",
    "    x6 = random.choice(select_random)\n",
    "    x1 = 1\n",
    "    x2 = 3 + x4 + 2*x5 + 3*x6 \n",
    "    x3 = -3 - 2*x2 - 3*x2 - 4*x2\n",
    "    mock_data3.append([x1, x2, x3, x4, x5, x6])\n",
    "print(mock_data3)"
   ]
  },
  {
   "cell_type": "code",
   "execution_count": 8,
   "metadata": {},
   "outputs": [],
   "source": [
    "a = np.array(mock_data3)\n",
    "samples1 = [[1, 36.18181818181819, -328.6363636363637, 8.363636363636363, 1.3636363636363638, 7.363636363636364]]"
   ]
  },
  {
   "cell_type": "code",
   "execution_count": 9,
   "metadata": {},
   "outputs": [
    {
     "data": {
      "text/plain": [
       "array([0.])"
      ]
     },
     "execution_count": 9,
     "metadata": {},
     "output_type": "execute_result"
    }
   ],
   "source": [
    "KDE(a, samples1, 'epanechnikov', 1)"
   ]
  },
  {
   "cell_type": "code",
   "execution_count": null,
   "metadata": {},
   "outputs": [],
   "source": []
  }
 ],
 "metadata": {
  "kernelspec": {
   "display_name": "Python 3",
   "language": "python",
   "name": "python3"
  },
  "language_info": {
   "codemirror_mode": {
    "name": "ipython",
    "version": 3
   },
   "file_extension": ".py",
   "mimetype": "text/x-python",
   "name": "python",
   "nbconvert_exporter": "python",
   "pygments_lexer": "ipython3",
   "version": "3.6.4"
  }
 },
 "nbformat": 4,
 "nbformat_minor": 2
}
