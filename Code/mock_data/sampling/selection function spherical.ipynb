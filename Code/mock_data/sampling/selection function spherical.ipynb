{
 "cells": [
  {
   "cell_type": "code",
   "execution_count": 79,
   "metadata": {},
   "outputs": [],
   "source": [
    "import sys\n",
    "sys.path.append('../../')\n",
    "from search import search_local\n",
    "import numpy as np\n",
    "from tools.tools import *\n",
    "import matplotlib.pyplot as plt\n",
    "from scipy.optimize import curve_fit"
   ]
  },
  {
   "cell_type": "markdown",
   "metadata": {},
   "source": [
    "Seeing how mismatched exponential density is, try spherical density. Define parammeters. All units in kpc."
   ]
  },
  {
   "cell_type": "code",
   "execution_count": 80,
   "metadata": {},
   "outputs": [],
   "source": [
    "d_pixel = 0.001\n",
    "d_max = 6\n",
    "d_min = 0\n",
    "bins = int((d_max - d_min)/d_pixel)\n",
    "epsilon = 0.03\n",
    "bins_close = int((epsilon - d_min)/d_pixel)"
   ]
  },
  {
   "cell_type": "markdown",
   "metadata": {},
   "source": [
    "Get gaia catalogue, convert from cartesian to cylindrical"
   ]
  },
  {
   "cell_type": "code",
   "execution_count": 81,
   "metadata": {},
   "outputs": [],
   "source": [
    "samples = search_local.get_entire_catalogue()\n",
    "x, y, z, vx, vy, vz = samples.T\n",
    "cylcoord = rect_to_cyl(x, y, z, vx, vy, vz)\n",
    "R = cylcoord[:, 0]\n",
    "z = cylcoord[:, 3]"
   ]
  },
  {
   "cell_type": "markdown",
   "metadata": {},
   "source": [
    "Get stars close to the sun: epsilon kpc around sun"
   ]
  },
  {
   "cell_type": "code",
   "execution_count": 82,
   "metadata": {},
   "outputs": [],
   "source": [
    "sun_galactic = np.array([0, 0, 0, 0, 0, 0])\n",
    "close_stars = search_local.search_phase_space(*sun_galactic, epsilon = epsilon, v_scale = 0)\n",
    "x_close, y_close, z_close, vx_close, vy_close, vz_close = close_stars.T\n",
    "cyl_close = rect_to_cyl(x_close, y_close, z_close, vx_close, vy_close, vz_close)\n",
    "R_close = cyl_close[:, 0]\n",
    "z_close = cyl_close[:, 3]"
   ]
  },
  {
   "cell_type": "markdown",
   "metadata": {},
   "source": [
    "Change the data of both gaia rv and close stars to just storing distance."
   ]
  },
  {
   "cell_type": "code",
   "execution_count": 83,
   "metadata": {},
   "outputs": [],
   "source": [
    "dist_coord = np.sqrt((R-8.300)**2 + (z - 0.027)**2)\n",
    "dist_close = np.sqrt((R_close-8.300)**2 + (z_close-0.027)**2)"
   ]
  },
  {
   "cell_type": "markdown",
   "metadata": {},
   "source": [
    "Graph 1D histogram for distribution of distance for all of gaia catalogue"
   ]
  },
  {
   "cell_type": "code",
   "execution_count": 84,
   "metadata": {},
   "outputs": [
    {
     "data": {
      "image/png": "[encoded data removed]",
      "text/plain": [
       "<matplotlib.figure.Figure at 0x11d410f0>"
      ]
     },
     "metadata": {},
     "output_type": "display_data"
    }
   ],
   "source": [
    "histogram_gaia, edges, patches = plt.hist(dist_coord, bins = bins_d, range = (d_min, d_max))"
   ]
  },
  {
   "cell_type": "markdown",
   "metadata": {},
   "source": [
    "Graph 1D histogram for distribution of distance for all stars in epsilon region"
   ]
  },
  {
   "cell_type": "code",
   "execution_count": 85,
   "metadata": {},
   "outputs": [
    {
     "data": {
      "image/png": "[encoded data removed]",
      "text/plain": [
       "<matplotlib.figure.Figure at 0x24ecee10>"
      ]
     },
     "metadata": {},
     "output_type": "display_data"
    }
   ],
   "source": [
    "histogram_close, edges_close, patches_close = plt.hist(dist_close, bins = bins_close)"
   ]
  },
  {
   "cell_type": "markdown",
   "metadata": {},
   "source": [
    "Define a function that get the gaia spherical number density function from histogram result"
   ]
  },
  {
   "cell_type": "code",
   "execution_count": 86,
   "metadata": {},
   "outputs": [],
   "source": [
    "def n_gaia(d, histogram):\n",
    "    d_index = ((d-d_min)/d_pixel).astype(int)-1\n",
    "    result = []\n",
    "    for i in range(np.size(d)):\n",
    "        result.append(histogram[d_index[i]])\n",
    "    return np.array(result)"
   ]
  },
  {
   "cell_type": "markdown",
   "metadata": {},
   "source": [
    "Define the true sperhical number density function"
   ]
  },
  {
   "cell_type": "code",
   "execution_count": 87,
   "metadata": {},
   "outputs": [],
   "source": [
    "def n(d, n_0):\n",
    "    return n_0*4*(np.pi)*(d**2)"
   ]
  },
  {
   "cell_type": "markdown",
   "metadata": {},
   "source": [
    "Curve fit spherical density with stars in epsilon region."
   ]
  },
  {
   "cell_type": "code",
   "execution_count": 88,
   "metadata": {},
   "outputs": [
    {
     "name": "stdout",
     "output_type": "stream",
     "text": [
      "optimized n_0 = 16964.402272589756\n",
      "standard deviation of n_0 = 33653.961329965416\n"
     ]
    }
   ],
   "source": [
    "popt, pcov = curve_fit(n_spherical, dist_close, n_gaia(dist_close, histogram_close))\n",
    "n_0 = popt[0]\n",
    "std_n_0 = pcov[0][0]\n",
    "print(\"optimized n_0 =\", n_0)\n",
    "print(\"standard deviation of n_0 =\", std_n_0)"
   ]
  },
  {
   "cell_type": "code",
   "execution_count": 92,
   "metadata": {},
   "outputs": [
    {
     "data": {
      "text/plain": [
       "[<matplotlib.lines.Line2D at 0x25618390>]"
      ]
     },
     "execution_count": 92,
     "metadata": {},
     "output_type": "execute_result"
    },
    {
     "data": {
      "image/png": "[encoded data removed]",
      "text/plain": [
       "<matplotlib.figure.Figure at 0x25618a90>"
      ]
     },
     "metadata": {},
     "output_type": "display_data"
    }
   ],
   "source": [
    "plt.hist(dist_close, bins = bins_close)\n",
    "d_linspace = np.linspace(d_min, epsilon, bins_close, endpoint = False)\n",
    "plt.plot(d_linspace, n(d_linspace, n_0))"
   ]
  },
  {
   "cell_type": "code",
   "execution_count": null,
   "metadata": {},
   "outputs": [],
   "source": []
  },
  {
   "cell_type": "code",
   "execution_count": null,
   "metadata": {},
   "outputs": [],
   "source": []
  },
  {
   "cell_type": "code",
   "execution_count": null,
   "metadata": {},
   "outputs": [],
   "source": []
  },
  {
   "cell_type": "code",
   "execution_count": null,
   "metadata": {},
   "outputs": [],
   "source": []
  }
 ],
 "metadata": {
  "kernelspec": {
   "display_name": "Python 3",
   "language": "python",
   "name": "python3"
  },
  "language_info": {
   "codemirror_mode": {
    "name": "ipython",
    "version": 3
   },
   "file_extension": ".py",
   "mimetype": "text/x-python",
   "name": "python",
   "nbconvert_exporter": "python",
   "pygments_lexer": "ipython3",
   "version": "3.6.4"
  }
 },
 "nbformat": 4,
 "nbformat_minor": 2
}
