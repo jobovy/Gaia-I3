{
 "cells": [
  {
   "cell_type": "code",
   "execution_count": 2,
   "metadata": {
    "collapsed": true
   },
   "outputs": [],
   "source": [
    "# make values to eval on.\n",
    "import numpy as np\n",
    "import random\n",
    "ran = np.random.rand(1000000,6) \n",
    "sample_points = np.random.rand(1000,6) "
   ]
  },
  {
   "cell_type": "code",
   "execution_count": 3,
   "metadata": {
    "collapsed": true
   },
   "outputs": [],
   "source": [
    "# import qdf samples\n",
    "import sys\n",
    "sys.path.append('..')\n",
    "import numpy as np\n",
    "samples = np.load('../mock_data/qdf/data/sampleV_at_(0.0,0.0,0.0)_epsilon=0.5.npy')"
   ]
  },
  {
   "cell_type": "code",
   "execution_count": 36,
   "metadata": {},
   "outputs": [],
   "source": [
    "def galactocentric_to_galactic(point):\n",
    "    x, y, z, vx, vy, vz = point\n",
    "    coord = SkyCoord(frame = 'galactocentric', representation_type = CartesianRepresentation,\n",
    "                     differential_type = CartesianDifferential,\n",
    "    x = x*unit.kpc, y = y*unit.kpc, z = z*unit.kpc,\n",
    "    v_x = vx*unit.km/unit.s, v_y = vy*unit.km/unit.s,\n",
    "    v_z = vz*unit.km/unit.s)\n",
    "    coord = coord.transform_to('galactic')\n",
    "    coord.representation_type = CartesianRepresentation\n",
    "    u = coord.u.value\n",
    "    v = coord.v.value\n",
    "    w = coord.w.value\n",
    "    U = coord.U.value\n",
    "    V = coord.V.value\n",
    "    W = coord.W.value\n",
    "    return np.array([u, v, w, U, V, W])"
   ]
  },
  {
   "cell_type": "code",
   "execution_count": 2,
   "metadata": {
    "collapsed": true
   },
   "outputs": [],
   "source": [
    "# 1. QDF\n",
    "from galpy.potential import MWPotential2014\n",
    "from galpy.actionAngle import actionAngleAdiabatic\n",
    "from galpy.df import quasiisothermaldf\n",
    "aA= actionAngleAdiabatic(pot=MWPotential2014,c=True)\n",
    "\n",
    "\n",
    "from galpy.util.bovy_coords import *\n",
    "\n",
    "qdf= quasiisothermaldf(1./3.,0.2,0.1,1.,1.,pot=MWPotential2014,aA=aA,cutcounter=True)"
   ]
  },
  {
   "cell_type": "code",
   "execution_count": 34,
   "metadata": {},
   "outputs": [
    {
     "name": "stdout",
     "output_type": "stream",
     "text": [
      "1001 [ 1.1  0.   0.  ...,  0.   0.   0. ]\n"
     ]
    }
   ],
   "source": [
    "import numpy as np\n",
    "x1 = np.linspace(1.1, 2.1, 1000)\n",
    "y = np.empty([])\n",
    "for i in np.nditer(x1):\n",
    "    y = np.append(y, qdf(float(i),0.,0.,0.,0.))\n",
    "print(len(y), y)\n"
   ]
  },
  {
   "cell_type": "code",
   "execution_count": 6,
   "metadata": {},
   "outputs": [
    {
     "data": {
      "text/plain": [
       "array([ 0.])"
      ]
     },
     "execution_count": 6,
     "metadata": {},
     "output_type": "execute_result"
    }
   ],
   "source": [
    "qdf(0.,0.,0.,0.,0.)"
   ]
  },
  {
   "cell_type": "code",
   "execution_count": 15,
   "metadata": {
    "collapsed": true
   },
   "outputs": [],
   "source": [
    "# 2. KDE\n",
    "#Importing the required modules for KDE\n",
    "import numpy as np\n",
    "from sklearn.neighbors import KernelDensity\n",
    "from scipy.stats import iqr\n",
    "\n",
    "def generate_KDE(inputs, ker, v_scale):\n",
    "    #Scaling velocities with v_scale\n",
    "    positions, velocities = np.hsplit(inputs, 2)\n",
    "    velocities_scaled = velocities*v_scale\n",
    "    inputs = np.hstack((positions, velocities_scaled))\n",
    "    \n",
    "    #Optimizing bandwidth in terms of Scott's Rule of Thumb\n",
    "    shape_string = str(inputs.shape)\n",
    "    objects, parameters = shape_string.split(', ')\n",
    "    N_string = objects[1:]\n",
    "    N = int(N_string)\n",
    "    IQR = iqr(inputs)\n",
    "    A = min(np.std(inputs), IQR/1.34)\n",
    "    bw = 1.059 * A * N ** (-1/5.)\n",
    "    \n",
    "    #Fit data points to selected kernel and bandwidth\n",
    "    kde = KernelDensity(kernel=ker, bandwidth=bw).fit(inputs)  \n",
    "    return kde\n",
    "\n",
    "def input_KDE(samples, kde, v_scale):\n",
    "    #To correct the type of information from other functions into acceptable input\n",
    "    samples = np.array(samples)\n",
    "        \n",
    "     #Scaling samples with v_scale\n",
    "    samp_positions, samp_velocities = np.hsplit(samples, 2)\n",
    "    samp_velocities_scaled = samp_velocities*v_scale\n",
    "    samples = np.hstack((samp_positions, samp_velocities_scaled))\n",
    "        \n",
    "    #Get the log density for selected samples and apply exponential to get normal probabilities\n",
    "    log_dens = kde.score_samples(samples)\n",
    "    dens = np.exp(log_dens)\n",
    "        \n",
    "    #Return a 1xQ array of normal probabilities for the selected sample\n",
    "    return dens\n",
    "    \n"
   ]
  },
  {
   "cell_type": "code",
   "execution_count": 58,
   "metadata": {},
   "outputs": [
    {
     "name": "stdout",
     "output_type": "stream",
     "text": [
      "#stars 1699708\n",
      "min/max/mean (x) 0.900745306404 1.0163069654 0.957604602066\n",
      "min/max/mean (y) 0.372132086095 0.422068087 0.396610815649\n",
      "min/max/mean (z) -0.0590301240362 0.0656483040402 0.00256927025893\n",
      "min/max/mean (vx) -260.936202178 170.664224015 -76.877111217\n",
      "min/max/mean (vy) -6.85088036929 294.032239252 185.635885056\n",
      "min/max/mean (vz) -78.6318475051 79.4952977672 -0.00151810605736\n"
     ]
    }
   ],
   "source": [
    "samples_qdf = np.load('../mock_data/qdf/data/sampleV_at_(0.0,0.0,0.0)_epsilon=0.5.npy')\n",
    "\n",
    "#convert cylindrical to rectangular\n",
    "x, y, z = cyl_to_rect(samples_qdf[:,0], samples_qdf[:,1], samples_qdf[:,2])\n",
    "vx, vy, vz = cyl_to_rect_vec(samples_qdf[:,3], samples_qdf[:,4], samples_qdf[:,5], samples_qdf[:,1])\n",
    "samples_qdf = np.stack((x, y, z, vx, vy, vz), axis=1)\n",
    "\n",
    "\n",
    "print('#stars', len(samples_qdf))\n",
    "print('min/max/mean (x)', min(samples_qdf[:,0]), max(samples_qdf[:,0]), np.mean(samples_qdf[:,0]))\n",
    "print('min/max/mean (y)', min(samples_qdf[:,1]), max(samples_qdf[:,1]), np.mean(samples_qdf[:,1]))\n",
    "print('min/max/mean (z)', min(samples_qdf[:,2]), max(samples_qdf[:,2]), np.mean(samples_qdf[:,2]))\n",
    "print('min/max/mean (vx)', min(samples_qdf[:,3]), max(samples_qdf[:,3]), np.mean(samples_qdf[:,3]))\n",
    "print('min/max/mean (vy)', min(samples_qdf[:,4]), max(samples_qdf[:,4]), np.mean(samples_qdf[:,4]))\n",
    "print('min/max/mean (vz)', min(samples_qdf[:,5]), max(samples_qdf[:,5]), np.mean(samples_qdf[:,5]))"
   ]
  },
  {
   "cell_type": "code",
   "execution_count": 59,
   "metadata": {},
   "outputs": [
    {
     "name": "stdout",
     "output_type": "stream",
     "text": [
      "#stars 1699708\n",
      "min/max/mean (x) -12.3336813864 -3.68920230051 -8.3105739503\n",
      "min/max/mean (y) -0.704801501565 0.67050998086 9.33418371294e-05\n",
      "min/max/mean (z) -1.52609095465 1.5655696659 -0.000184323072449\n",
      "min/max/mean (vx) -133.336430276 129.754301877 -0.0128272924158\n",
      "min/max/mean (vy) -310.196982081 -98.2865069945 -218.103750639\n",
      "min/max/mean (vz) -90.5724902592 89.5936405577 0.00133619911726\n"
     ]
    }
   ],
   "source": [
    "samples_ddf = np.load('../mock_data/dehnendf/data/1699708samples_3.0813469383936956-3.2018352601712126rad_7.800911997788074-8.799620277350543kpc.npy')\n",
    "print('#stars', len(samples_ddf))\n",
    "print('min/max/mean (x)', min(samples_ddf[:,0]), max(samples_ddf[:,0]), np.mean(samples_ddf[:,0]))\n",
    "print('min/max/mean (y)', min(samples_ddf[:,1]), max(samples_ddf[:,1]), np.mean(samples_ddf[:,1]))\n",
    "print('min/max/mean (z)', min(samples_ddf[:,2]), max(samples_ddf[:,2]), np.mean(samples_ddf[:,2]))\n",
    "print('min/max/mean (vx)', min(samples_ddf[:,3]), max(samples_ddf[:,3]), np.mean(samples_ddf[:,3]))\n",
    "print('min/max/mean (vy)', min(samples_ddf[:,4]), max(samples_ddf[:,4]), np.mean(samples_ddf[:,4]))\n",
    "print('min/max/mean (vz)', min(samples_ddf[:,5]), max(samples_ddf[:,5]), np.mean(samples_ddf[:,5]))"
   ]
  },
  {
   "cell_type": "code",
   "execution_count": 16,
   "metadata": {},
   "outputs": [
    {
     "name": "stdout",
     "output_type": "stream",
     "text": [
      "0.0454369728272\n"
     ]
    }
   ],
   "source": [
    "kde_qdf = generate_KDE(samples_qdf, 'epanechnikov', 0.1)\n"
   ]
  },
  {
   "cell_type": "code",
   "execution_count": 11,
   "metadata": {
    "collapsed": true
   },
   "outputs": [],
   "source": [
    "kde_ddf = generate_KDE(samples_ddf, 'epanechnikov', 0.1)"
   ]
  },
  {
   "cell_type": "code",
   "execution_count": 194,
   "metadata": {},
   "outputs": [
    {
     "name": "stdout",
     "output_type": "stream",
     "text": [
      "e\n"
     ]
    }
   ],
   "source": [
    "#use pickle to save objects\n",
    "import pickle\n",
    "pickle.dump(kde_qdf, open(\"kde_qdf_1699708_stars.p\", \"wb\"), pickle.HIGHEST_PROTOCOL)\n",
    "pickle.dump(kde_ddf, open(\"kde_ddf_1699708_stars.p\", \"wb\"), pickle.HIGHEST_PROTOCOL)\n",
    "pickle.dump(ran_kde, open(\"test.p\", \"wb\"), pickle.HIGHEST_PROTOCOL)\n",
    "\n"
   ]
  },
  {
   "cell_type": "code",
   "execution_count": 67,
   "metadata": {},
   "outputs": [
    {
     "data": {
      "text/plain": [
       "(1699708, 6)"
      ]
     },
     "execution_count": 67,
     "metadata": {},
     "output_type": "execute_result"
    }
   ],
   "source": [
    "samples_ddf.shape"
   ]
  },
  {
   "cell_type": "code",
   "execution_count": 156,
   "metadata": {},
   "outputs": [
    {
     "ename": "EOFError",
     "evalue": "Ran out of input",
     "output_type": "error",
     "traceback": [
      "\u001b[1;31m---------------------------------------------------------------------------\u001b[0m",
      "\u001b[1;31mEOFError\u001b[0m                                  Traceback (most recent call last)",
      "\u001b[1;32m<ipython-input-156-7b04afa5d291>\u001b[0m in \u001b[0;36m<module>\u001b[1;34m()\u001b[0m\n\u001b[1;32m----> 1\u001b[1;33m \u001b[0ma\u001b[0m \u001b[1;33m=\u001b[0m \u001b[0mpickle\u001b[0m\u001b[1;33m.\u001b[0m\u001b[0mload\u001b[0m\u001b[1;33m(\u001b[0m\u001b[0mopen\u001b[0m\u001b[1;33m(\u001b[0m\u001b[1;34m\"kde_ddf_1699708_stars.p\"\u001b[0m\u001b[1;33m,\u001b[0m \u001b[1;34m\"rb\"\u001b[0m\u001b[1;33m)\u001b[0m\u001b[1;33m)\u001b[0m\u001b[1;33m\u001b[0m\u001b[0m\n\u001b[0m",
      "\u001b[1;31mEOFError\u001b[0m: Ran out of input"
     ]
    }
   ],
   "source": [
    "a = pickle.load(open(\"kde_ddf_1699708_stars.p\", \"rb\"))"
   ]
  },
  {
   "cell_type": "code",
   "execution_count": 66,
   "metadata": {},
   "outputs": [
    {
     "data": {
      "image/png": "[encoded data removed]",
      "text/plain": [
       "<matplotlib.figure.Figure at 0x21257c69550>"
      ]
     },
     "metadata": {},
     "output_type": "display_data"
    }
   ],
   "source": [
    "#plot qdf in x dim\n",
    "import matplotlib.pyplot as plt\n",
    "fig, ax = plt.subplots(figsize=(20, 5))\n",
    "x1 = np.linspace(0.9, 1.016, 10)\n",
    "x2 = [np.mean(samples_qdf[:,1])] * 10\n",
    "x3 = [np.mean(samples_qdf[:,2])] * 10\n",
    "x4 = [np.mean(samples_qdf[:,3])] * 10\n",
    "x5 = [np.mean(samples_qdf[:,4])] * 10\n",
    "x6 = [np.mean(samples_qdf[:,5])] * 10\n",
    "points = np.stack((x1, x2, x3, x4, x5, x6), axis=1)\n",
    "y = input_KDE(points, kde_qdf, 0.1)\n",
    "plt.plot(x1, y)\n",
    "\n",
    "plt.show()\n"
   ]
  },
  {
   "cell_type": "code",
   "execution_count": 177,
   "metadata": {},
   "outputs": [
    {
     "data": {
      "text/plain": [
       "array([ 0.,  0.])"
      ]
     },
     "execution_count": 177,
     "metadata": {},
     "output_type": "execute_result"
    }
   ],
   "source": [
    "input_KDE([[0,0,0,0,0,0], [0,0,0,0,1,1]], kde_qdf, 0.1)"
   ]
  },
  {
   "cell_type": "code",
   "execution_count": 192,
   "metadata": {
    "collapsed": true
   },
   "outputs": [],
   "source": [
    "ran_kde = generate_KDE(ran, 'epanechnikov', 0.1)"
   ]
  },
  {
   "cell_type": "code",
   "execution_count": 43,
   "metadata": {},
   "outputs": [
    {
     "data": {
      "text/plain": [
       "array([[  9.82119865e-01,   4.02984973e-01,   5.23462235e-02,\n",
       "         -7.87832804e+01,   2.10589571e+02,  -1.11876178e-01],\n",
       "       [  9.70365391e-01,   4.00020820e-01,   2.78571816e-02,\n",
       "         -3.54815383e+01,   1.93526031e+02,  -7.37105008e+00],\n",
       "       [  9.77541618e-01,   4.01771754e-01,   4.35162906e-02,\n",
       "         -9.60621280e+01,   2.05690812e+02,  -2.15995690e+01],\n",
       "       [  9.60691571e-01,   3.97572530e-01,   7.95528405e-03,\n",
       "         -1.52070383e+02,   1.83327452e+02,   3.01400005e+01],\n",
       "       [  9.62151082e-01,   3.97934306e-01,   1.10123453e-02,\n",
       "         -4.61552706e+01,   1.17224812e+02,   2.68081734e+01],\n",
       "       [  9.62137415e-01,   3.97930598e-01,   1.09806365e-02,\n",
       "         -1.19670926e+02,   1.30692231e+02,  -1.98404528e+01],\n",
       "       [  9.65153097e-01,   3.98690398e-01,   1.71829376e-02,\n",
       "          3.31985411e+01,   1.98399987e+02,   2.44304895e+01],\n",
       "       [  9.78198006e-01,   4.02061693e-01,   4.45642446e-02,\n",
       "         -6.49139260e+01,   1.68660880e+02,   2.99886545e+01],\n",
       "       [  9.75227604e-01,   4.01306625e-01,   3.82872773e-02,\n",
       "         -1.12895578e+02,   1.63363310e+02,   1.05189764e+01],\n",
       "       [  9.70499191e-01,   4.00117896e-01,   2.83169069e-02,\n",
       "         -8.88915318e+01,   1.25296558e+02,  -1.03997807e+01],\n",
       "       [  9.75492950e-01,   4.01399387e-01,   3.85406021e-02,\n",
       "         -1.08666868e+02,   2.10284790e+02,   1.37963147e+00],\n",
       "       [  9.79819941e-01,   4.02547838e-01,   4.69761941e-02,\n",
       "          2.07138790e+01,   1.58322717e+02,   2.03003382e+01],\n",
       "       [  9.74505643e-01,   4.01167328e-01,   3.60552800e-02,\n",
       "         -7.87093796e+01,   1.80305358e+02,   1.84402060e+00],\n",
       "       [  9.81802231e-01,   4.02978436e-01,   5.18441003e-02,\n",
       "         -5.44257312e+01,   2.05168608e+02,   6.84934379e+00],\n",
       "       [  9.68156399e-01,   3.99482835e-01,   2.34970930e-02,\n",
       "         -2.10411828e+01,   1.86235123e+02,  -7.67109636e+00],\n",
       "       [  9.67389614e-01,   3.99298942e-01,   2.18082800e-02,\n",
       "         -6.90012079e+01,   1.24326476e+02,  -1.82391503e+01],\n",
       "       [  9.70811000e-01,   4.00165219e-01,   2.88725348e-02,\n",
       "         -3.22902416e+01,   2.43648476e+02,   1.19215341e+01],\n",
       "       [  9.75732422e-01,   4.01458677e-01,   3.86206910e-02,\n",
       "         -2.42490236e+01,   2.47015172e+02,   1.45171678e+01],\n",
       "       [  9.71641607e-01,   4.00405824e-01,   3.02846082e-02,\n",
       "         -5.69715278e+01,   2.15884413e+02,  -3.92980987e+01],\n",
       "       [  9.76756394e-01,   4.01728631e-01,   4.06328079e-02,\n",
       "         -9.26095862e+01,   2.12723850e+02,   1.22056819e+01],\n",
       "       [  9.74998567e-01,   4.01259905e-01,   3.71499939e-02,\n",
       "         -1.06230424e+02,   1.81701142e+02,  -1.39945431e+01],\n",
       "       [  9.66797113e-01,   3.99149573e-01,   2.04183498e-02,\n",
       "         -1.45220773e+02,   2.03378191e+02,   1.42119080e+01],\n",
       "       [  9.74090350e-01,   4.01036237e-01,   3.50429638e-02,\n",
       "         -6.84183221e+01,   1.45926148e+02,   2.26150745e+01],\n",
       "       [  9.68610566e-01,   3.99621393e-01,   2.38634325e-02,\n",
       "         -1.13698419e+02,   1.31326676e+02,  -2.41774569e+01],\n",
       "       [  9.81224283e-01,   4.02936135e-01,   4.97909439e-02,\n",
       "         -1.47122725e+02,   1.60094713e+02,   1.92320367e+01],\n",
       "       [  9.71326264e-01,   4.00347422e-01,   2.96542541e-02,\n",
       "         -9.08140047e+00,   1.25029128e+02,   1.35903980e+01],\n",
       "       [  9.67468459e-01,   3.99340727e-01,   2.17126334e-02,\n",
       "         -1.17274867e+02,   1.82394240e+02,  -2.06466398e+01],\n",
       "       [  9.65912307e-01,   3.98946017e-01,   1.84405058e-02,\n",
       "         -1.56405513e+01,   2.24455119e+02,   5.90626288e-01],\n",
       "       [  9.68494357e-01,   3.99629222e-01,   2.35509535e-02,\n",
       "         -8.65630466e+01,   2.30492629e+02,  -2.04275434e+01],\n",
       "       [  9.65734779e-01,   3.98916540e-01,   1.78209053e-02,\n",
       "         -7.99472378e+01,   2.15699758e+02,  -1.54694627e+00],\n",
       "       [  9.82371933e-01,   4.03296494e-01,   5.06870454e-02,\n",
       "         -1.36850272e+02,   2.06974501e+02,  -3.00857470e+00],\n",
       "       [  9.80077624e-01,   4.02672067e-01,   4.63553071e-02,\n",
       "         -7.15619620e+01,   1.75084863e+02,  -8.54844394e+00],\n",
       "       [  9.83159487e-01,   4.03424792e-01,   5.30328522e-02,\n",
       "         -1.33008691e+02,   1.75294496e+02,   3.58372170e+01],\n",
       "       [  9.69033399e-01,   3.99750001e-01,   2.45743195e-02,\n",
       "         -3.40043896e+01,   1.70544360e+02,  -2.49888866e+01],\n",
       "       [  9.74289791e-01,   4.01127428e-01,   3.47941300e-02,\n",
       "         -8.54689476e+01,   1.51636985e+02,   2.07504967e+01],\n",
       "       [  9.78381477e-01,   4.02074923e-01,   4.45006612e-02,\n",
       "         -7.52818774e+01,   1.79798126e+02,  -3.27816582e+00],\n",
       "       [  9.64821447e-01,   3.98628487e-01,   1.63174804e-02,\n",
       "         -4.24027778e+01,   2.43831447e+02,  -1.10989048e+01],\n",
       "       [  9.68059002e-01,   3.99470466e-01,   2.28752103e-02,\n",
       "          1.40784613e+01,   1.19702831e+02,   1.59356896e+00],\n",
       "       [  9.76606662e-01,   4.01658605e-01,   4.00709686e-02,\n",
       "         -1.61078761e+02,   1.87349785e+02,  -3.34010694e+01],\n",
       "       [  9.79357670e-01,   4.02390112e-01,   4.53968551e-02,\n",
       "         -3.50091886e+01,   1.66760580e+02,  -3.20407839e+01],\n",
       "       [  9.80128599e-01,   4.02597234e-01,   4.68974316e-02,\n",
       "         -7.50474281e+01,   1.47914563e+02,   1.63892130e+01],\n",
       "       [  9.72724137e-01,   4.00682253e-01,   3.20681885e-02,\n",
       "         -3.13270688e+01,   1.71602828e+02,   4.23554189e-01],\n",
       "       [  9.73566557e-01,   4.00886894e-01,   3.36867590e-02,\n",
       "         -5.27459513e+01,   2.06008558e+02,  -1.62837397e+01],\n",
       "       [  9.66537414e-01,   3.99053088e-01,   1.99544088e-02,\n",
       "          2.31933126e+01,   2.34274124e+02,   2.90882062e+01],\n",
       "       [  9.73701865e-01,   4.00869932e-01,   3.45444705e-02,\n",
       "         -1.00459357e+02,   1.58895335e+02,   3.22855486e+01],\n",
       "       [  9.81829282e-01,   4.02943341e-01,   5.03943404e-02,\n",
       "         -9.31321286e+01,   1.45121425e+02,  -8.39540100e+00],\n",
       "       [  9.77825020e-01,   4.01936209e-01,   4.22180868e-02,\n",
       "         -8.34302827e+01,   1.83233293e+02,  -1.20526178e+01],\n",
       "       [  9.69128921e-01,   3.99731885e-01,   2.48950648e-02,\n",
       "         -9.23527131e+01,   1.24559999e+02,   1.59560043e+01],\n",
       "       [  9.73517240e-01,   4.00853286e-01,   3.32763171e-02,\n",
       "         -5.36454882e+01,   1.31286228e+02,   5.76579261e+00],\n",
       "       [  9.72108967e-01,   4.00526817e-01,   3.05496944e-02,\n",
       "         -8.98990173e+01,   1.83672395e+02,  -8.01162527e+00],\n",
       "       [  9.73420353e-01,   4.00902283e-01,   3.27559939e-02,\n",
       "         -1.03138503e+02,   2.08389794e+02,  -5.86112565e+00],\n",
       "       [  9.72382894e-01,   4.00621917e-01,   3.05418828e-02,\n",
       "         -3.16340864e+01,   2.07414053e+02,  -2.88870204e+00],\n",
       "       [  9.74127562e-01,   4.01075087e-01,   3.39100365e-02,\n",
       "         -8.56868491e+01,   1.43768701e+02,   3.24312896e+01],\n",
       "       [  9.73817502e-01,   4.01001231e-01,   3.31584048e-02,\n",
       "         -6.34296539e+01,   1.86581661e+02,  -1.92174695e+01],\n",
       "       [  9.75964048e-01,   4.01507749e-01,   3.80823467e-02,\n",
       "         -1.12828082e+02,   1.55326909e+02,  -1.30828071e+01],\n",
       "       [  9.74639972e-01,   4.01176136e-01,   3.53011765e-02,\n",
       "         -1.47143316e+02,   1.49717168e+02,  -3.58670534e+01],\n",
       "       [  9.74317333e-01,   4.01086749e-01,   3.45663997e-02,\n",
       "         -3.53597938e+01,   2.13810014e+02,  -1.07310395e+01],\n",
       "       [  9.79649615e-01,   4.02468779e-01,   4.47749578e-02,\n",
       "         -7.83640806e+01,   2.05044929e+02,  -1.59809616e+01],\n",
       "       [  9.65271946e-01,   3.98760740e-01,   1.66595241e-02,\n",
       "         -8.10491612e+01,   2.40475780e+02,  -1.71602307e+01],\n",
       "       [  9.67967654e-01,   3.99464590e-01,   2.19151598e-02,\n",
       "         -5.51775611e+01,   2.05798224e+02,  -6.60793271e+00],\n",
       "       [  9.72897478e-01,   4.00743273e-01,   3.14755316e-02,\n",
       "         -5.77526730e+00,   2.12297184e+02,   4.33759166e+00],\n",
       "       [  9.77450242e-01,   4.01945636e-01,   4.01077574e-02,\n",
       "         -9.38089981e+01,   1.92864112e+02,   6.79720037e+00],\n",
       "       [  9.70009436e-01,   4.00010576e-01,   2.57337018e-02,\n",
       "         -1.62503383e+02,   1.66073644e+02,  -1.07721405e+01],\n",
       "       [  9.70935465e-01,   4.00235415e-01,   2.75216729e-02,\n",
       "         -1.40958543e+02,   2.38098503e+02,  -1.01695140e+01],\n",
       "       [  9.74437341e-01,   4.01133387e-01,   3.42717998e-02,\n",
       "         -1.29545720e+02,   1.81359375e+02,   6.40806331e+00],\n",
       "       [  9.76339406e-01,   4.01376345e-01,   4.14623838e-02,\n",
       "         -9.77489199e+01,   1.79551447e+02,   1.22025042e+01],\n",
       "       [  9.65071288e-01,   3.98635062e-01,   1.72503830e-02,\n",
       "         -1.09670123e+02,   1.38871212e+02,  -1.11702211e+01],\n",
       "       [  9.65448453e-01,   3.98717814e-01,   1.81284927e-02,\n",
       "         -5.08175358e+01,   1.61706365e+02,  -2.29240802e+01],\n",
       "       [  9.67400246e-01,   3.99186218e-01,   2.22699091e-02,\n",
       "         -2.31099398e+01,   1.79026602e+02,  -5.04633597e+01],\n",
       "       [  9.72828620e-01,   4.00539009e-01,   3.35075609e-02,\n",
       "         -6.87338910e+01,   2.03838393e+02,   1.35011735e+01],\n",
       "       [  9.65609058e-01,   3.98761895e-01,   1.83810420e-02,\n",
       "         -1.00220241e+02,   2.23056239e+02,   3.68337967e+01],\n",
       "       [  9.78630833e-01,   4.01976274e-01,   4.52912851e-02,\n",
       "         -7.29367813e+01,   2.23753175e+02,   2.33868637e+01],\n",
       "       [  9.70456207e-01,   3.99959255e-01,   2.83052021e-02,\n",
       "         -3.50984315e+01,   2.28448875e+02,   3.11454289e+00],\n",
       "       [  9.69136427e-01,   3.99666372e-01,   2.56483757e-02,\n",
       "         -7.64406193e+00,   2.15979171e+02,  -2.60589346e+01],\n",
       "       [  9.75512177e-01,   4.01241123e-01,   3.89881385e-02,\n",
       "         -4.34008484e+01,   1.78895757e+02,   9.54080581e+00],\n",
       "       [  9.67045319e-01,   3.99143523e-01,   2.12061936e-02,\n",
       "         -1.65746147e+02,   1.48545787e+02,  -1.22537688e+01],\n",
       "       [  9.66404324e-01,   3.99002796e-01,   1.96117258e-02,\n",
       "         -8.91528525e+01,   2.05522887e+02,  -1.71838731e+01],\n",
       "       [  9.82458614e-01,   4.03060151e-01,   5.19155357e-02,\n",
       "         -1.42821451e+02,   1.66150855e+02,   1.17193172e+01],\n",
       "       [  9.75487103e-01,   4.01266687e-01,   3.80298022e-02,\n",
       "         -1.75472886e+01,   2.09560071e+02,  -1.75591518e+01],\n",
       "       [  9.78951946e-01,   4.02163712e-01,   4.49478129e-02,\n",
       "         -8.23613999e+01,   2.28800821e+02,  -1.10113406e+01],\n",
       "       [  9.81572105e-01,   4.02814288e-01,   5.02048940e-02,\n",
       "         -4.38905793e+01,   2.04093099e+02,   1.20622336e+01],\n",
       "       [  9.74547090e-01,   4.01046937e-01,   3.59860955e-02,\n",
       "         -1.23453249e+02,   2.35040174e+02,  -4.48984615e+00],\n",
       "       [  9.81394285e-01,   4.02705962e-01,   5.05316877e-02,\n",
       "         -1.13775819e+02,   2.30061645e+02,   2.68793086e+01],\n",
       "       [  9.75864542e-01,   4.01312350e-01,   3.90179222e-02,\n",
       "         -1.05491625e+02,   2.25079547e+02,  -2.51838007e+01],\n",
       "       [  9.78394928e-01,   4.01960808e-01,   4.41088446e-02,\n",
       "         -6.23013671e+01,   2.43110204e+02,   1.08134932e+00],\n",
       "       [  9.82629563e-01,   4.03093990e-01,   5.18456672e-02,\n",
       "         -9.76585726e+01,   1.15446600e+02,   2.40106132e+00],\n",
       "       [  9.73367451e-01,   4.00740751e-01,   3.32916992e-02,\n",
       "         -1.13768577e+02,   1.66031136e+02,  -2.87607231e+01],\n",
       "       [  9.69691702e-01,   3.99739571e-01,   2.69357830e-02,\n",
       "         -9.16841997e+01,   1.78291881e+02,   2.08695872e-01],\n",
       "       [  9.74249325e-01,   4.00846580e-01,   3.63223152e-02,\n",
       "         -1.53382275e+01,   2.11370221e+02,   6.30820639e+00],\n",
       "       [  9.71850424e-01,   4.00259774e-01,   3.12779537e-02,\n",
       "         -1.26114590e+02,   1.98627363e+02,   3.12969069e+01],\n",
       "       [  9.76178194e-01,   4.01324295e-01,   4.01754190e-02,\n",
       "         -8.08360398e+01,   1.34040430e+02,  -1.69145222e+01],\n",
       "       [  9.82539174e-01,   4.02943335e-01,   5.27006088e-02,\n",
       "         -7.29329427e+01,   1.91780486e+02,   1.75826046e+00],\n",
       "       [  9.69779053e-01,   3.99774446e-01,   2.67552117e-02,\n",
       "         -1.32029600e+02,   1.25838365e+02,   2.00636339e+01],\n",
       "       [  9.65370859e-01,   3.98698716e-01,   1.75954994e-02,\n",
       "         -1.24945015e+02,   2.03800603e+02,  -6.39245318e+00],\n",
       "       [  9.67656545e-01,   3.99224737e-01,   2.27125894e-02,\n",
       "         -1.19163201e+02,   1.82407117e+02,   9.05446537e+00],\n",
       "       [  9.81895025e-01,   4.02689374e-01,   5.21294149e-02,\n",
       "         -6.28619582e+01,   2.11556179e+02,  -1.91979394e+01],\n",
       "       [  9.64838965e-01,   3.98547955e-01,   1.66865905e-02,\n",
       "         -1.42397950e+02,   2.11130442e+02,   2.46620737e+00],\n",
       "       [  9.76149901e-01,   4.01288453e-01,   4.00343933e-02,\n",
       "         -4.31486103e+01,   1.47463188e+02,  -2.69921623e+01],\n",
       "       [  9.79065656e-01,   4.02060814e-01,   4.54228412e-02,\n",
       "         -4.97392921e+01,   1.58183305e+02,  -7.54556571e+00],\n",
       "       [  9.75375476e-01,   4.01120201e-01,   3.80738830e-02,\n",
       "         -1.44872095e+01,   2.33274792e+02,   1.53708669e+01]])"
      ]
     },
     "execution_count": 43,
     "metadata": {},
     "output_type": "execute_result"
    }
   ],
   "source": [
    "samples_qdf[:100]"
   ]
  },
  {
   "cell_type": "code",
   "execution_count": null,
   "metadata": {
    "collapsed": true
   },
   "outputs": [],
   "source": []
  }
 ],
 "metadata": {
  "kernelspec": {
   "display_name": "Python 3",
   "language": "python",
   "name": "python3"
  },
  "language_info": {
   "codemirror_mode": {
    "name": "ipython",
    "version": 3
   },
   "file_extension": ".py",
   "mimetype": "text/x-python",
   "name": "python",
   "nbconvert_exporter": "python",
   "pygments_lexer": "ipython3",
   "version": "3.6.3"
  }
 },
 "nbformat": 4,
 "nbformat_minor": 2
}
