{
 "cells": [
  {
   "cell_type": "markdown",
   "metadata": {},
   "source": [
    "Goal: Mathew will be sending 6-Dimensional data points to Ayush to put through the Kernal Density Estimator?\n",
    "\n",
    "This is a generator for mock data that takes in values in R^6 and outputs them in R^6\n",
    "\n",
    "The idea is to make a sphere of values that from a function that has 3 free variables. \n"
   ]
  },
  {
   "cell_type": "markdown",
   "metadata": {},
   "source": [
    "METHOD 1: random.choice\n",
    "\n",
    "We could actually do this with one equation (I think):\n",
    "\n",
    "f(x1, x2, x3, x4, x5, x6) = x1^2 + x2^2 + x3^2 + x4^2 - 75 = 0\n",
    "\n",
    "Note: x4 is a not a free variable as it depends on x1, x2 and x3 (as shown in code below)."
   ]
  },
  {
   "cell_type": "code",
   "execution_count": 2,
   "metadata": {
    "scrolled": false
   },
   "outputs": [
    {
     "name": "stdout",
     "output_type": "stream",
     "text": [
      "[(3.7474747474747478, 3.5858585858585861, 2.6161616161616164, 6.4229081900168854, 0, 0), (1.1212121212121211, 3.0202020202020203, 2.4949494949494948, 7.6417596242008239, 0, 0), (2.9797979797979801, 3.7474747474747478, 1.404040404040404, 7.0785526458770516, 0, 0), (3.7070707070707072, 2.6969696969696972, 1.5656565656565657, 7.1786280544977368, 0, 0), (4.5151515151515156, 1.0404040404040404, 3.3434343434343434, 6.507873156345295, 0, 0), (1.6868686868686869, 2.0101010101010104, 4.4343434343434343, 6.9606440986986309, 0, 0), (3.3434343434343434, 1.0, 4.1515151515151523, 6.7517678231618632, 0, 0), (1.3232323232323233, 3.262626262626263, 4.5151515151515156, 6.4975174400996831, 0, 0), (1.1212121212121211, 3.5858585858585861, 1.606060606060606, 7.6357757242556259, 0, 0), (3.060606060606061, 4.5151515151515156, 1.404040404040404, 6.5783560165765183, 0, 0)]\n"
     ]
    }
   ],
   "source": [
    "import random\n",
    "import numpy as np\n",
    "\n",
    "mock_data1 = [] # tuples in 6 dimensions\n",
    "for i in range(10):\n",
    "    select_random = np.linspace(1.0, 5.0, 100)\n",
    "    x1 = random.choice(select_random)\n",
    "    x2 = random.choice(select_random)\n",
    "    x3 = random.choice(select_random)\n",
    "    x4 = (75 - x1**2 - x2**2 - x3**2)**(0.5) \n",
    "    x5, x6 = 0, 0\n",
    "    mock_data1.append((x1, x2, x3, x4, x5, x6))\n",
    "print(mock_data1)\n",
    "    "
   ]
  },
  {
   "cell_type": "markdown",
   "metadata": {
    "collapsed": true
   },
   "source": [
    "METHOD 2: np.random.multivariate_normal (samples points in a gaussian)"
   ]
  },
  {
   "cell_type": "code",
   "execution_count": 7,
   "metadata": {},
   "outputs": [
    {
     "name": "stdout",
     "output_type": "stream",
     "text": [
      "[(4.7202421351730095, 4.2719846626154236, 5.0962306639468311, 0, 0, 0), (4.7354620323901839, 5.313577875811653, 5.1184850191516418, 0, 0, 0), (3.8840214418106949, 4.0845950179299431, 5.7895116982825794, 0, 0, 0), (5.2177661755391043, 5.4243538917218039, 3.8207903052376575, 0, 0, 0), (3.2137136918870945, 5.0911767075855812, 5.4465647403210093, 0, 0, 0), (5.0645801717781636, 4.7695733910621865, 3.7578526997839776, 0, 0, 0), (5.2675725920230159, 4.6431399422298663, 6.4677681476273712, 0, 0, 0), (4.989389557374567, 5.5560605163705743, 4.895129569713621, 0, 0, 0), (4.4478766825529528, 4.9143263698314739, 6.1249718791210936, 0, 0, 0), (4.0018786382456701, 3.7623472659864379, 3.215162607420408, 0, 0, 0)]\n"
     ]
    }
   ],
   "source": [
    "import numpy as np\n",
    "\n",
    "mock_data2 = [] # tuples in 6 dimensions\n",
    "mean = [5, 5, 5]\n",
    "covariance = [[1, 0, 0], [0, 1, 0], [0, 0, 1]]\n",
    "x1, x2, x3 = np.random.multivariate_normal(mean, covariance, 10).T\n",
    "\n",
    "for i in range(10):\n",
    "    mock_data2.append((x1[i], x2[i], x3[i], 0, 0, 0))\n",
    "print(mock_data2)"
   ]
  },
  {
   "cell_type": "code",
   "execution_count": 3,
   "metadata": {
    "collapsed": true
   },
   "outputs": [],
   "source": [
    "# saving dataset\n",
    "np.save('R^6 values in R^3 space, 10 points.npy', mota1) # or mock_data2\n",
    "\n",
    "#loading dataset\n",
    "mock_data1 = np.load('R^6 values in R^3 space, 10 points.npy') # or mock_data2"
   ]
  },
  {
   "cell_type": "markdown",
   "metadata": {},
   "source": [
    "METHOD 3: non-zero R^6 values, can be simplified to R^3 basis\n",
    "\n",
    "Take this 3 x 7  matrix, where the 7th column is the column vector:\n",
    "\n",
    "$\n",
    "\\begin{bmatrix} 2 & 2 & 3 & 4 & 5 & 6 & 1 \\\\ 2 & 3 & 4 & 5 & 6 & 7 & 1 \n",
    "\\\\ 3 & 4 & 5 & 6 & 7 & 8 & 0 \\end{bmatrix}\n",
    "  \\begin{matrix} ~ \\\\ \\xrightarrow{row-reduced} \\\\ \\\\\n",
    "  \\end{matrix}\n",
    "  \\begin{bmatrix} 1 & 0 & 0 &  0 &  0 &  0 & -1 \\\\ \n",
    "                  0 & 1 & 0 & -1 & -2 & -3 & -3  \\\\ \n",
    "                  0 & 0 & 1 &  2 &  3 &  4 &  3 \\end{bmatrix}\n",
    "$\n",
    "\n",
    "Free variables exist in the 4th, 5th and 6th column.\n",
    "Solving for x1, x2 & x3 in terms of x4, x5 & x6:\n",
    "\n",
    "x1 = 1\n",
    "\n",
    "x2 = 3 + x4 + 2x5 + 3x6\n",
    "\n",
    "x3 = -3 - 2x2 - 3x2 - 4x2"
   ]
  },
  {
   "cell_type": "code",
   "execution_count": 1,
   "metadata": {},
   "outputs": [
    {
     "name": "stdout",
     "output_type": "stream",
     "text": [
      "[(1, 26.090909090909093, -237.81818181818184, 8.3636363636363633, 2.7272727272727275, 3.0909090909090908), (1, 23.727272727272727, -216.54545454545456, 5.1818181818181817, 6.0, 1.1818181818181819), (1, 21.0, -192.0, 9.7272727272727266, 1.5454545454545454, 1.7272727272727273), (1, 44.272727272727273, -401.4545454545455, 9.6363636363636367, 9.545454545454545, 4.1818181818181817), (1, 24.90909090909091, -227.18181818181819, 2.7272727272727275, 5.9090909090909092, 2.4545454545454546), (1, 46.727272727272727, -423.5454545454545, 9.7272727272727266, 4.7272727272727275, 8.1818181818181817), (1, 46.909090909090914, -425.18181818181824, 5.2727272727272725, 8.5454545454545467, 7.1818181818181817), (1, 44.909090909090907, -407.18181818181813, 9.8181818181818183, 6.6363636363636367, 6.2727272727272725), (1, 30.636363636363637, -278.72727272727275, 3.7272727272727275, 3.9090909090909092, 5.3636363636363633), (1, 34.909090909090907, -317.18181818181813, 9.2727272727272734, 1.9090909090909092, 6.2727272727272725)]\n"
     ]
    }
   ],
   "source": [
    "import random\n",
    "import numpy as np\n",
    "\n",
    "mock_data3 = [] # tuples in 6 dimensions\n",
    "for i in range(10):\n",
    "    select_random = np.linspace(1.0, 10.0, 100) # 1.0 and 10.0 are arbitrary\n",
    "    x4 = random.choice(select_random)\n",
    "    x5 = random.choice(select_random)\n",
    "    x6 = random.choice(select_random)\n",
    "    x1 = 1\n",
    "    x2 = 3 + x4 + 2*x5 + 3*x6 \n",
    "    x3 = -3 - 2*x2 - 3*x2 - 4*x2\n",
    "    mock_data3.append((x1, x2, x3, x4, x5, x6))\n",
    "print(mock_data3)"
   ]
  },
  {
   "cell_type": "code",
   "execution_count": null,
   "metadata": {
    "collapsed": true
   },
   "outputs": [],
   "source": []
  }
 ],
 "metadata": {
  "kernelspec": {
   "display_name": "Python 3",
   "language": "python",
   "name": "python3"
  },
  "language_info": {
   "codemirror_mode": {
    "name": "ipython",
    "version": 3
   },
   "file_extension": ".py",
   "mimetype": "text/x-python",
   "name": "python",
   "nbconvert_exporter": "python",
   "pygments_lexer": "ipython3",
   "version": "3.6.3"
  }
 },
 "nbformat": 4,
 "nbformat_minor": 2
}
