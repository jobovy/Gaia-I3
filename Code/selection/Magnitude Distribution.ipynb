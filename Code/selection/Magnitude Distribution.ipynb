{
 "cells": [
  {
   "cell_type": "code",
   "execution_count": 9,
   "metadata": {},
   "outputs": [],
   "source": [
    "import numpy as np\n",
    "import matplotlib.pyplot as plt\n",
    "from astropy.table import Table\n",
    "from matplotlib.colors import LogNorm\n",
    "\n",
    "# get data from fits file\n",
    "data_g = Table.read(\"gaia_data_with_magnitudes.fits\")\n",
    "data_rv = Table.read(\"gaia_rv_with_magnitudes\")\n",
    "\n",
    "# get distance\n",
    "distance_g = 1/data_g[\"parallax\"] # in kpc\n",
    "distance_rv = 1/data_rv[\"parallax\"] # in kpc\n",
    "\n",
    "# get rid of stars with negative distance and distance further than 2kpc\n",
    "mask_g = np.all(np.array([distance_g>0, distance_g<2]), axis = 0)\n",
    "data_g = data_g[mask_g]\n",
    "mask_rv = np.all(np.array([distance_rv>0,distance_rv<2]), axis = 0)\n",
    "data_rv = data_rv[mask_rv]\n",
    "\n",
    "# get coordinates and magnitude of both gaia and rv\n",
    "ra_g = data_g['ra'] #degree\n",
    "dec_g = data_g['dec'] #degree\n",
    "distance_g = 1/data_g[\"parallax\"] # in kpc\n",
    "gmag_g = data_g[\"phot_g_mean_mag\"] # magnitude\n",
    "color_g = data_g[\"bp_rp\"] # magnitude\n",
    "ra_rv = data_rv['ra'] #degree\n",
    "dec_rv = data_rv['dec'] #degree\n",
    "distance_rv = 1/data_rv[\"parallax\"] # in kpc\n",
    "gmag_rv = data_rv[\"phot_g_mean_mag\"] # magnitude\n",
    "color_rv = data_rv[\"bp_rp\"] # magnitude\n",
    "\n",
    "#set variables for histogram\n",
    "ra_pixel = 1 # degree\n",
    "dec_pixel = 1 # degree\n",
    "ra_min = min(np.min(ra_g), np.min(ra_rv))\n",
    "dec_min = min(np.min(dec_g), np.min(dec_rv))\n",
    "ra_max = max(np.max(ra_g), np.max(ra_rv))\n",
    "dec_max = max(np.max(dec_g), np.max(dec_rv))\n",
    "bin_ra = (ra_max - ra_min)/ra_pixel\n",
    "bin_dec = (dec_max - dec_min)/dec_pixel"
   ]
  },
  {
   "cell_type": "code",
   "execution_count": 6,
   "metadata": {},
   "outputs": [
    {
     "data": {
      "text/html": [
       "<i>Table length=2381184</i>\n",
       "<table id=\"table91870040\" class=\"table-striped table-bordered table-condensed\">\n",
       "<thead><tr><th>ra</th><th>dec</th><th>parallax</th><th>phot_g_mean_mag</th><th>bp_rp</th></tr></thead>\n",
       "<thead><tr><th>deg</th><th>deg</th><th>mas</th><th>mag</th><th>mag</th></tr></thead>\n",
       "<thead><tr><th>float64</th><th>float64</th><th>float64</th><th>float32</th><th>float32</th></tr></thead>\n",
       "<tr><td>278.8876148540954</td><td>-15.350779692352486</td><td>0.04325099205819898</td><td>16.126408</td><td>2.21803</td></tr>\n",
       "<tr><td>331.0847110004695</td><td>56.898850852647755</td><td>-0.0010402614016299314</td><td>15.96389</td><td>2.3337421</td></tr>\n",
       "<tr><td>271.94951136096995</td><td>-24.8229917407767</td><td>-0.07105879124889744</td><td>15.768867</td><td>3.4864893</td></tr>\n",
       "<tr><td>293.24458944387993</td><td>6.513168698422769</td><td>0.0397229273176749</td><td>15.091509</td><td>2.2414818</td></tr>\n",
       "<tr><td>359.2734123063603</td><td>56.883317508255296</td><td>0.8018401699112485</td><td>13.324602</td><td>0.8472948</td></tr>\n",
       "<tr><td>278.072327795011</td><td>-15.972720008071708</td><td>0.6351561296309682</td><td>13.099564</td><td>1.4888277</td></tr>\n",
       "<tr><td>282.1469991291398</td><td>-12.548518377573044</td><td>0.14574169751391744</td><td>15.939739</td><td>1.9386854</td></tr>\n",
       "<tr><td>273.39490489763165</td><td>-24.108791924833085</td><td>2.342751455386079</td><td>15.467145</td><td>1.6599941</td></tr>\n",
       "<tr><td>301.8560047509768</td><td>17.537263951583157</td><td>0.2206677888404323</td><td>14.810088</td><td>1.738697</td></tr>\n",
       "<tr><td>...</td><td>...</td><td>...</td><td>...</td><td>...</td></tr>\n",
       "<tr><td>284.0122834575152</td><td>-0.3692187717528333</td><td>2.0800105045534245</td><td>14.837059</td><td>1.5101871</td></tr>\n",
       "<tr><td>275.673090761192</td><td>-28.475417820433105</td><td>0.22627655800405835</td><td>15.855722</td><td>1.789526</td></tr>\n",
       "<tr><td>283.2914537607696</td><td>11.937542140556701</td><td>0.11341671650869105</td><td>16.09603</td><td>1.8842669</td></tr>\n",
       "<tr><td>279.69365747075267</td><td>-10.846482032171568</td><td>0.021947740330619813</td><td>16.176939</td><td>3.8736467</td></tr>\n",
       "<tr><td>318.63072824721206</td><td>4.689342203390844</td><td>2.5824794005920606</td><td>11.98909</td><td>0.9121866</td></tr>\n",
       "<tr><td>301.1443791974038</td><td>70.0075519399049</td><td>2.8903295423798436</td><td>15.846296</td><td>1.8571625</td></tr>\n",
       "<tr><td>276.2929771579839</td><td>-10.027934857054575</td><td>0.14411813662948633</td><td>14.262012</td><td>4.861615</td></tr>\n",
       "<tr><td>298.5601441540011</td><td>6.421613986618536</td><td>1.1759497836524522</td><td>15.652</td><td>1.2149639</td></tr>\n",
       "<tr><td>280.3935829668653</td><td>-7.967929762902817</td><td>0.15085848965617527</td><td>16.439703</td><td>2.6564884</td></tr>\n",
       "<tr><td>281.3235010433786</td><td>-7.53669065001102</td><td>0.15566739902426263</td><td>16.324286</td><td>2.3801165</td></tr>\n",
       "</table>"
      ],
      "text/plain": [
       "<Table length=2381184>\n",
       "        ra                 dec         ... phot_g_mean_mag   bp_rp  \n",
       "       deg                 deg         ...       mag          mag   \n",
       "     float64             float64       ...     float32      float32 \n",
       "------------------ ------------------- ... --------------- ---------\n",
       " 278.8876148540954 -15.350779692352486 ...       16.126408   2.21803\n",
       " 331.0847110004695  56.898850852647755 ...        15.96389 2.3337421\n",
       "271.94951136096995   -24.8229917407767 ...       15.768867 3.4864893\n",
       "293.24458944387993   6.513168698422769 ...       15.091509 2.2414818\n",
       " 359.2734123063603  56.883317508255296 ...       13.324602 0.8472948\n",
       "  278.072327795011 -15.972720008071708 ...       13.099564 1.4888277\n",
       " 282.1469991291398 -12.548518377573044 ...       15.939739 1.9386854\n",
       "273.39490489763165 -24.108791924833085 ...       15.467145 1.6599941\n",
       " 301.8560047509768  17.537263951583157 ...       14.810088  1.738697\n",
       "               ...                 ... ...             ...       ...\n",
       " 284.0122834575152 -0.3692187717528333 ...       14.837059 1.5101871\n",
       "  275.673090761192 -28.475417820433105 ...       15.855722  1.789526\n",
       " 283.2914537607696  11.937542140556701 ...        16.09603 1.8842669\n",
       "279.69365747075267 -10.846482032171568 ...       16.176939 3.8736467\n",
       "318.63072824721206   4.689342203390844 ...        11.98909 0.9121866\n",
       " 301.1443791974038    70.0075519399049 ...       15.846296 1.8571625\n",
       " 276.2929771579839 -10.027934857054575 ...       14.262012  4.861615\n",
       " 298.5601441540011   6.421613986618536 ...          15.652 1.2149639\n",
       " 280.3935829668653  -7.967929762902817 ...       16.439703 2.6564884\n",
       " 281.3235010433786   -7.53669065001102 ...       16.324286 2.3801165"
      ]
     },
     "execution_count": 6,
     "metadata": {},
     "output_type": "execute_result"
    }
   ],
   "source": []
  },
  {
   "cell_type": "code",
   "execution_count": null,
   "metadata": {},
   "outputs": [],
   "source": []
  }
 ],
 "metadata": {
  "kernelspec": {
   "display_name": "Python 3",
   "language": "python",
   "name": "python3"
  },
  "language_info": {
   "codemirror_mode": {
    "name": "ipython",
    "version": 3
   },
   "file_extension": ".py",
   "mimetype": "text/x-python",
   "name": "python",
   "nbconvert_exporter": "python",
   "pygments_lexer": "ipython3",
   "version": "3.6.4"
  }
 },
 "nbformat": 4,
 "nbformat_minor": 2
}
