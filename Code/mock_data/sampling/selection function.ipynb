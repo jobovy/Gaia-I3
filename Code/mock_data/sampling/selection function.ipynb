{
 "cells": [
  {
   "cell_type": "code",
   "execution_count": 36,
   "metadata": {},
   "outputs": [],
   "source": [
    "import sys\n",
    "sys.path.append('../../')\n",
    "from search import search_local\n",
    "import numpy as np\n",
    "from tools.tools import *\n",
    "import matplotlib.pyplot as plt\n",
    "from scipy.optimize import curve_fit"
   ]
  },
  {
   "cell_type": "markdown",
   "metadata": {},
   "source": [
    "Get gaia catalogue"
   ]
  },
  {
   "cell_type": "code",
   "execution_count": 37,
   "metadata": {},
   "outputs": [],
   "source": [
    "samples = search_local.get_entire_catalogue()"
   ]
  },
  {
   "cell_type": "markdown",
   "metadata": {},
   "source": [
    "convert from cartesian to cylindrical"
   ]
  },
  {
   "cell_type": "code",
   "execution_count": 38,
   "metadata": {},
   "outputs": [],
   "source": [
    "x, y, z, vx, vy, vz = samples.T\n",
    "cylcoord = rect_to_cyl(x, y, z, vx, vy, vz)\n",
    "R = cylcoord[:, 0]\n",
    "z = cylcoord[:, 3]"
   ]
  },
  {
   "cell_type": "markdown",
   "metadata": {},
   "source": [
    "Plot 2d histogram of gaia catalogue"
   ]
  },
  {
   "cell_type": "code",
   "execution_count": 63,
   "metadata": {},
   "outputs": [
    {
     "data": {
      "text/plain": [
       "Text(0,0.5,'z(kpc)')"
      ]
     },
     "execution_count": 63,
     "metadata": {},
     "output_type": "execute_result"
    },
    {
     "data": {
      "image/png": "[encoded data removed]",
      "text/plain": [
       "<matplotlib.figure.Figure at 0x111a2cc0>"
      ]
     },
     "metadata": {},
     "output_type": "display_data"
    }
   ],
   "source": [
    "density_plot = plt.hist2d(R, z, bins = 10000, range = [[5.0, 10.0],[-1., 1.]])\n",
    "plt.colorbar()\n",
    "plt.xlabel('R(kpc)')\n",
    "plt.ylabel('z(kpc)')"
   ]
  },
  {
   "cell_type": "markdown",
   "metadata": {},
   "source": [
    "Define the true number density function"
   ]
  },
  {
   "cell_type": "code",
   "execution_count": 40,
   "metadata": {},
   "outputs": [],
   "source": [
    "def n(Rz, n_0):\n",
    "    R, z = Rz\n",
    "    return n_0*np.exp(-R/3 - np.abs(z)/0.3)"
   ]
  },
  {
   "cell_type": "markdown",
   "metadata": {},
   "source": [
    "Fit the function with real data when the stars are close; 0.05 kpc around sun"
   ]
  },
  {
   "cell_type": "code",
   "execution_count": 41,
   "metadata": {},
   "outputs": [],
   "source": [
    "sun_galactic = np.array([0, 0, 0, 0, 0, 0])\n",
    "close_stars = search_local.search_phase_space(*sun_galactic, epsilon = 0.05, v_scale = 0)\n",
    "x_close, y_close, z_close, vx_close, vy_close, vz_close = samples.T\n",
    "cyl_close_coord = rect_to_cyl(x_close, y_close, z_close, vx_close, vy_close, vz_close)\n",
    "R_close = cyl_close_coord[:, 0]\n",
    "z_close = cyl_close_coord[:, 3]"
   ]
  },
  {
   "cell_type": "code",
   "execution_count": 42,
   "metadata": {},
   "outputs": [
    {
     "data": {
      "text/plain": [
       "(2, 6376803)"
      ]
     },
     "execution_count": 42,
     "metadata": {},
     "output_type": "execute_result"
    }
   ],
   "source": [
    "function_input = np.array([R_close, z_close])\n",
    "np.shape(function_input)\n",
    "#curve_fit(n, function_input, "
   ]
  },
  {
   "cell_type": "code",
   "execution_count": 50,
   "metadata": {},
   "outputs": [],
   "source": [
    "h, xedges, yedges, graph = density_plot"
   ]
  },
  {
   "cell_type": "code",
   "execution_count": 62,
   "metadata": {},
   "outputs": [
    {
     "data": {
      "text/plain": [
       "148.0"
      ]
     },
     "execution_count": 62,
     "metadata": {},
     "output_type": "execute_result"
    }
   ],
   "source": []
  },
  {
   "cell_type": "code",
   "execution_count": null,
   "metadata": {},
   "outputs": [],
   "source": []
  }
 ],
 "metadata": {
  "kernelspec": {
   "display_name": "Python 3",
   "language": "python",
   "name": "python3"
  },
  "language_info": {
   "codemirror_mode": {
    "name": "ipython",
    "version": 3
   },
   "file_extension": ".py",
   "mimetype": "text/x-python",
   "name": "python",
   "nbconvert_exporter": "python",
   "pygments_lexer": "ipython3",
   "version": "3.6.4"
  }
 },
 "nbformat": 4,
 "nbformat_minor": 2
}
