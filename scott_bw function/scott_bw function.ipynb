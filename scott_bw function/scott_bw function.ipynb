{
 "cells": [
  {
   "cell_type": "code",
   "execution_count": 38,
   "metadata": {},
   "outputs": [],
   "source": [
    "#Ayush Pandhi, last updated 05/30/2018\n",
    "\n",
    "#Importing the required modules\n",
    "import numpy as np\n",
    "import random\n",
    "from scipy.stats import iqr\n",
    "\n",
    "#Defining a function to optimize bandwidth based on Scott's rule of thumb\n",
    "def Scott_bw(N, X):\n",
    "    \"\"\"\n",
    "    Takes N (number of objects) and X (NxM matrix) to output the optimal bandwidth based on Scott's rule of thumb.\n",
    "    \n",
    "    Args:\n",
    "        N (float): Number of objects.\n",
    "        X (ndarray): NxM matrix, N = # of objects, M = # of parameters.\n",
    "    Returns:\n",
    "        bw (float): The optimized bandwidth as a float number.\n",
    "    \n",
    "    \"\"\"\n",
    "    IQR = iqr(X)\n",
    "    A = min(np.std(X), IQR/1.34)\n",
    "    bw = 1.059 * A * N ** (-1/5.)\n",
    "    return bw"
   ]
  }
 ],
 "metadata": {
  "kernelspec": {
   "display_name": "Python 3",
   "language": "python",
   "name": "python3"
  },
  "language_info": {
   "codemirror_mode": {
    "name": "ipython",
    "version": 3
   },
   "file_extension": ".py",
   "mimetype": "text/x-python",
   "name": "python",
   "nbconvert_exporter": "python",
   "pygments_lexer": "ipython3",
   "version": "3.6.4"
  }
 },
 "nbformat": 4,
 "nbformat_minor": 2
}
