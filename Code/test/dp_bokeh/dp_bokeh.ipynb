{
 "cells": [
  {
   "cell_type": "code",
   "execution_count": 3,
   "metadata": {},
   "outputs": [],
   "source": [
    "from tools_modified import *\n",
    "import matplotlib as mpl\n",
    "# More on linked plots: https://bokeh.pydata.org/en/latest/docs/user_guide/interaction/linking.html\n",
    "# More on general plot tools: https://bokeh.pydata.org/en/latest/docs/user_guide/tools.html\n",
    "\n",
    "\n",
    "output_file(\"allprojections.html\")\n",
    "\n",
    "# Set up data\n",
    "data = np.load('data.npz') # epsilon=1\n",
    "cluster = data['cluster']\n",
    "result = data['result']\n",
    "\n",
    "max_dot_product = np.nanmax(np.absolute(result), axis = 1)\n",
    "colours = [\"#%02x%02x%02x\" % (int(r), int(g), int(b)) for r, g, b, _ in 255*mpl.cm.plasma(mpl.colors.Normalize()(max_dot_product))]\n",
    "\n",
    "# create a column data source for the plots to share\n",
    "source = ColumnDataSource(data=dict(x=cluster.T[0], y=cluster.T[1], z=cluster.T[2],\n",
    "                                    vx=cluster.T[3], vy=cluster.T[4], vz=cluster.T[5], colours=colours))\n",
    "\n",
    "#denote interactive tools for linked plots\n",
    "TOOLS = \"lasso_select,undo,save\"\n",
    "\n",
    "#create and save graph of dot product in color scatter plot in all \n",
    "# 2 dimensional projection angles.\n",
    "color_plot(source, TOOLS)\n",
    "    "
   ]
  },
  {
   "cell_type": "code",
   "execution_count": null,
   "metadata": {
    "collapsed": true
   },
   "outputs": [],
   "source": []
  }
 ],
 "metadata": {
  "kernelspec": {
   "display_name": "Python 3",
   "language": "python",
   "name": "python3"
  },
  "language_info": {
   "codemirror_mode": {
    "name": "ipython",
    "version": 3
   },
   "file_extension": ".py",
   "mimetype": "text/x-python",
   "name": "python",
   "nbconvert_exporter": "python",
   "pygments_lexer": "ipython3",
   "version": "3.6.3"
  }
 },
 "nbformat": 4,
 "nbformat_minor": 2
}
