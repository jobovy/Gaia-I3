{
 "cells": [
  {
   "cell_type": "code",
   "execution_count": 191,
   "metadata": {
    "collapsed": true
   },
   "outputs": [],
   "source": [
    "# make values to eval on.\n",
    "import numpy as np\n",
    "import random\n",
    "ran = np.random.rand(1000000,6) \n",
    "sample_points = np.random.rand(1000,6) "
   ]
  },
  {
   "cell_type": "code",
   "execution_count": 81,
   "metadata": {
    "collapsed": true
   },
   "outputs": [],
   "source": [
    "# import qdf samples\n",
    "import sys\n",
    "sys.path.append('..')\n",
    "import numpy as np\n",
    "samples = np.load('../mock_data/qdf/data/sampleV_at_(0.0,0.0,0.0)_epsilon=0.5.npy')"
   ]
  },
  {
   "cell_type": "code",
   "execution_count": 129,
   "metadata": {},
   "outputs": [],
   "source": [
    "# 1. QDF\n",
    "from galpy.potential import MWPotential2014\n",
    "from galpy.actionAngle import actionAngleAdiabatic\n",
    "from galpy.df import quasiisothermaldf\n",
    "aA= actionAngleAdiabatic(pot=MWPotential2014,c=True)\n",
    "\n",
    "\n",
    "from galpy.util.bovy_coords import *\n",
    "\n",
    "qdf= quasiisothermaldf(1./3.,0.2,0.1,1.,1.,pot=MWPotential2014,aA=aA,cutcounter=True)"
   ]
  },
  {
   "cell_type": "code",
   "execution_count": 83,
   "metadata": {},
   "outputs": [
    {
     "data": {
      "text/plain": [
       "array([ 16.86790643])"
      ]
     },
     "execution_count": 83,
     "metadata": {},
     "output_type": "execute_result"
    }
   ],
   "source": [
    "qdf(1.,0.1,1.1,0.1,0.)"
   ]
  },
  {
   "cell_type": "code",
   "execution_count": 84,
   "metadata": {},
   "outputs": [
    {
     "data": {
      "text/plain": [
       "array([ 0.])"
      ]
     },
     "execution_count": 84,
     "metadata": {},
     "output_type": "execute_result"
    }
   ],
   "source": [
    "qdf(0.,0.,0.,0.,0.)"
   ]
  },
  {
   "cell_type": "code",
   "execution_count": 183,
   "metadata": {},
   "outputs": [],
   "source": [
    "# 2. KDE\n",
    "#Importing the required modules for KDE\n",
    "import numpy as np\n",
    "from sklearn.neighbors import KernelDensity\n",
    "from scipy.stats import iqr\n",
    "\n",
    "def generate_KDE(inputs, ker, v_scale):\n",
    "    #Scaling velocities with v_scale\n",
    "    positions, velocities = np.hsplit(inputs, 2)\n",
    "    velocities_scaled = velocities*v_scale\n",
    "    inputs = np.hstack((positions, velocities_scaled))\n",
    "    \n",
    "    #Optimizing bandwidth in terms of Scott's Rule of Thumb\n",
    "    shape_string = str(inputs.shape)\n",
    "    objects, parameters = shape_string.split(', ')\n",
    "    N_string = objects[1:]\n",
    "    N = int(N_string)\n",
    "    IQR = iqr(inputs)\n",
    "    A = min(np.std(inputs), IQR/1.34)\n",
    "    bw = 1.059 * A * N ** (-1/5.)\n",
    "    \n",
    "    #Fit data points to selected kernel and bandwidth\n",
    "    kde = KernelDensity(kernel=ker, bandwidth=bw).fit(inputs)  \n",
    "    return kde\n",
    "\n",
    "def input_KDE(samples, kde, v_scale):\n",
    "    #To correct the type of information from other functions into acceptable input\n",
    "    samples = np.array(samples)\n",
    "        \n",
    "     #Scaling samples with v_scale\n",
    "    samp_positions, samp_velocities = np.hsplit(samples, 2)\n",
    "    samp_velocities_scaled = samp_velocities*v_scale\n",
    "    samples = np.hstack((samp_positions, samp_velocities_scaled))\n",
    "        \n",
    "    #Get the log density for selected samples and apply exponential to get normal probabilities\n",
    "    log_dens = kde.score_samples(samples)\n",
    "    dens = np.exp(log_dens)\n",
    "        \n",
    "    #Return a 1xQ array of normal probabilities for the selected sample\n",
    "    return dens\n",
    "    \n"
   ]
  },
  {
   "cell_type": "code",
   "execution_count": 157,
   "metadata": {},
   "outputs": [
    {
     "name": "stdout",
     "output_type": "stream",
     "text": [
      "#stars 1699708\n",
      "min/max/mean (x) 0.900745306404 1.0163069654 0.957604602066\n",
      "min/max/mean (y) 0.372132086095 0.422068087 0.957604602066\n",
      "min/max/mean (z) -0.0590301240362 0.0656483040402 0.957604602066\n",
      "min/max/mean (vx) -260.936202178 170.664224015 0.957604602066\n",
      "min/max/mean (vy) -6.85088036929 294.032239252 0.957604602066\n",
      "min/max/mean (vz) -78.6318475051 79.4952977672 0.957604602066\n"
     ]
    }
   ],
   "source": [
    "samples_qdf = np.load('../mock_data/qdf/data/sampleV_at_(0.0,0.0,0.0)_epsilon=0.5.npy')\n",
    "\n",
    "#convert cylindrical to rectangular\n",
    "x, y, z = cyl_to_rect(samples_qdf[:,0], samples_qdf[:,1], samples_qdf[:,2])\n",
    "vx, vy, vz = cyl_to_rect_vec(samples_qdf[:,3], samples_qdf[:,4], samples_qdf[:,5], samples_qdf[:,1])\n",
    "samples_qdf = np.stack((x, y, z, vx, vy, vz), axis=1)\n",
    "\n",
    "\n",
    "print('#stars', len(samples_qdf))\n",
    "print('min/max/mean (x)', min(samples_qdf[:,0]), max(samples_qdf[:,0]), np.mean(samples_qdf[:,0]))\n",
    "print('min/max/mean (y)', min(samples_qdf[:,1]), max(samples_qdf[:,1]), np.mean(samples_qdf[:,0]))\n",
    "print('min/max/mean (z)', min(samples_qdf[:,2]), max(samples_qdf[:,2]), np.mean(samples_qdf[:,0]))\n",
    "print('min/max/mean (vx)', min(samples_qdf[:,3]), max(samples_qdf[:,3]), np.mean(samples_qdf[:,0]))\n",
    "print('min/max/mean (vy)', min(samples_qdf[:,4]), max(samples_qdf[:,4]), np.mean(samples_qdf[:,0]))\n",
    "print('min/max/mean (vz)', min(samples_qdf[:,5]), max(samples_qdf[:,5]), np.mean(samples_qdf[:,0]))"
   ]
  },
  {
   "cell_type": "code",
   "execution_count": 145,
   "metadata": {},
   "outputs": [
    {
     "name": "stdout",
     "output_type": "stream",
     "text": [
      "#stars 1699708\n",
      "min/max/mean (x) -12.3336813864 -3.68920230051 0.957604602066\n",
      "min/max/mean (y) -0.704801501565 0.67050998086 0.957604602066\n",
      "min/max/mean (z) -1.52609095465 1.5655696659 0.957604602066\n",
      "min/max/mean (vx) -133.336430276 129.754301877 0.957604602066\n",
      "min/max/mean (vy) -310.196982081 -98.2865069945 0.957604602066\n",
      "min/max/mean (vz) -90.5724902592 89.5936405577 0.957604602066\n"
     ]
    }
   ],
   "source": [
    "samples_ddf = np.load('../mock_data/dehnendf/data/1699708samples_3.0813469383936956-3.2018352601712126rad_7.800911997788074-8.799620277350543kpc.npy')\n",
    "print('#stars', len(samples_ddf))\n",
    "print('min/max/mean (x)', min(samples_ddf[:,0]), max(samples_ddf[:,0]), np.mean(samples_qdf[:,0]))\n",
    "print('min/max/mean (y)', min(samples_ddf[:,1]), max(samples_ddf[:,1]), np.mean(samples_qdf[:,0]))\n",
    "print('min/max/mean (z)', min(samples_ddf[:,2]), max(samples_ddf[:,2]), np.mean(samples_qdf[:,0]))\n",
    "print('min/max/mean (vx)', min(samples_ddf[:,3]), max(samples_ddf[:,3]), np.mean(samples_qdf[:,0]))\n",
    "print('min/max/mean (vy)', min(samples_ddf[:,4]), max(samples_ddf[:,4]), np.mean(samples_qdf[:,0]))\n",
    "print('min/max/mean (vz)', min(samples_ddf[:,5]), max(samples_ddf[:,5]), np.mean(samples_qdf[:,0]))"
   ]
  },
  {
   "cell_type": "code",
   "execution_count": 186,
   "metadata": {},
   "outputs": [],
   "source": [
    "kde_qdf = generate_KDE(samples_qdf, 'epanechnikov', 0.1)\n"
   ]
  },
  {
   "cell_type": "code",
   "execution_count": 187,
   "metadata": {
    "collapsed": true
   },
   "outputs": [],
   "source": [
    "kde_ddf = generate_KDE(samples_ddf, 'epanechnikov', 0.1)"
   ]
  },
  {
   "cell_type": "code",
   "execution_count": 194,
   "metadata": {},
   "outputs": [
    {
     "name": "stdout",
     "output_type": "stream",
     "text": [
      "e\n"
     ]
    }
   ],
   "source": [
    "#use pickle to save objects\n",
    "import pickle\n",
    "pickle.dump(kde_qdf, open(\"kde_qdf_1699708_stars.p\", \"wb\"), pickle.HIGHEST_PROTOCOL)\n",
    "pickle.dump(kde_ddf, open(\"kde_ddf_1699708_stars.p\", \"wb\"), pickle.HIGHEST_PROTOCOL)\n",
    "pickle.dump(ran_kde, open(\"test.p\", \"wb\"), pickle.HIGHEST_PROTOCOL)\n",
    "\n"
   ]
  },
  {
   "cell_type": "code",
   "execution_count": 165,
   "metadata": {},
   "outputs": [
    {
     "data": {
      "text/plain": [
       "(1699708, 6)"
      ]
     },
     "execution_count": 165,
     "metadata": {},
     "output_type": "execute_result"
    }
   ],
   "source": [
    "samples_ddf.shape"
   ]
  },
  {
   "cell_type": "code",
   "execution_count": 156,
   "metadata": {},
   "outputs": [
    {
     "ename": "EOFError",
     "evalue": "Ran out of input",
     "output_type": "error",
     "traceback": [
      "\u001b[1;31m---------------------------------------------------------------------------\u001b[0m",
      "\u001b[1;31mEOFError\u001b[0m                                  Traceback (most recent call last)",
      "\u001b[1;32m<ipython-input-156-7b04afa5d291>\u001b[0m in \u001b[0;36m<module>\u001b[1;34m()\u001b[0m\n\u001b[1;32m----> 1\u001b[1;33m \u001b[0ma\u001b[0m \u001b[1;33m=\u001b[0m \u001b[0mpickle\u001b[0m\u001b[1;33m.\u001b[0m\u001b[0mload\u001b[0m\u001b[1;33m(\u001b[0m\u001b[0mopen\u001b[0m\u001b[1;33m(\u001b[0m\u001b[1;34m\"kde_ddf_1699708_stars.p\"\u001b[0m\u001b[1;33m,\u001b[0m \u001b[1;34m\"rb\"\u001b[0m\u001b[1;33m)\u001b[0m\u001b[1;33m)\u001b[0m\u001b[1;33m\u001b[0m\u001b[0m\n\u001b[0m",
      "\u001b[1;31mEOFError\u001b[0m: Ran out of input"
     ]
    }
   ],
   "source": [
    "a = pickle.load(open(\"kde_ddf_1699708_stars.p\", \"rb\"))"
   ]
  },
  {
   "cell_type": "code",
   "execution_count": 198,
   "metadata": {},
   "outputs": [
    {
     "data": {
      "image/png": "[encoded data removed]",
      "text/plain": [
       "<matplotlib.figure.Figure at 0x1e4ce125a90>"
      ]
     },
     "metadata": {},
     "output_type": "display_data"
    }
   ],
   "source": [
    "#plot qdf in x dim\n",
    "x = np.linspace(0.9, 1.016, 1000000)\n",
    "a = [0] * 1000000\n",
    "points = np.stack((x, a, a, a, a, a), axis=1)\n",
    "y = input_KDE(points, kde_qdf, 0.1)\n",
    "plt.plot(x, y)\n",
    "plt.show()"
   ]
  },
  {
   "cell_type": "code",
   "execution_count": 177,
   "metadata": {},
   "outputs": [
    {
     "data": {
      "text/plain": [
       "array([ 0.,  0.])"
      ]
     },
     "execution_count": 177,
     "metadata": {},
     "output_type": "execute_result"
    }
   ],
   "source": [
    "input_KDE([[0,0,0,0,0,0], [0,0,0,0,1,1]], kde_qdf, 0.1)"
   ]
  },
  {
   "cell_type": "code",
   "execution_count": 192,
   "metadata": {},
   "outputs": [],
   "source": [
    "ran_kde = generate_KDE(ran, 'epanechnikov', 0.1)"
   ]
  },
  {
   "cell_type": "code",
   "execution_count": 181,
   "metadata": {},
   "outputs": [
    {
     "data": {
      "text/plain": [
       "array([[ 0.16956711,  0.53945821,  0.95860095,  0.03481185,  0.55335712,\n",
       "         0.00804016],\n",
       "       [ 0.26480854,  0.67555418,  0.21376751,  0.5624344 ,  0.3628427 ,\n",
       "         0.99152896],\n",
       "       [ 0.33044671,  0.98771319,  0.33865575,  0.89133357,  0.0714186 ,\n",
       "         0.73032541],\n",
       "       ..., \n",
       "       [ 0.11376261,  0.82750637,  0.22714483,  0.08449541,  0.71943628,\n",
       "         0.46625321],\n",
       "       [ 0.883808  ,  0.27334215,  0.15887061,  0.62001938,  0.40068772,\n",
       "         0.86404164],\n",
       "       [ 0.73691577,  0.94029976,  0.52736352,  0.9958244 ,  0.60143441,\n",
       "         0.78232885]])"
      ]
     },
     "execution_count": 181,
     "metadata": {},
     "output_type": "execute_result"
    }
   ],
   "source": [
    "ran"
   ]
  },
  {
   "cell_type": "code",
   "execution_count": null,
   "metadata": {
    "collapsed": true
   },
   "outputs": [],
   "source": []
  }
 ],
 "metadata": {
  "kernelspec": {
   "display_name": "Python 3",
   "language": "python",
   "name": "python3"
  },
  "language_info": {
   "codemirror_mode": {
    "name": "ipython",
    "version": 3
   },
   "file_extension": ".py",
   "mimetype": "text/x-python",
   "name": "python",
   "nbconvert_exporter": "python",
   "pygments_lexer": "ipython3",
   "version": "3.6.3"
  }
 },
 "nbformat": 4,
 "nbformat_minor": 2
}
