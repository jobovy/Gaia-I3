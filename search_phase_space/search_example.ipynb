{
 "cells": [
  {
   "cell_type": "markdown",
   "metadata": {},
   "source": [
    "This notebook explains and demonstrates the use of the search_phase_space function. All coordinate transformations are dervied from Bovy (2011). [https://github.com/jobovy/stellarkinematics/blob/master/stellarkinematics.pdf]\n",
    "\n",
    "To convert from ICRS coordinates to rectangular galactic coordinates, the function first fetches the ra and dec of the north galactic pole, $\\alpha_{\\textrm{NGP}}$ and $\\delta_{\\textrm{NGP}}$ in ICRS using galpy. These are used to calculate the sine and cosine of the galactic parallactic angle $\\phi$ for each star, according to the equations:\n",
    "\n",
    "$$\\cos \\phi = \\frac{\\sin \\delta_{\\textrm{NGP}} - \\sin \\delta \\sin b}{\\cos \\delta \\cos b}$$\n",
    "\n",
    "$$\\sin \\phi = \\frac{\\sin(\\alpha - \\alpha_{\\textrm{NGP}})\\cos \\delta_{\\textrm{NGP}}}{\\cos b}$$\n",
    "\n",
    "Where $\\alpha$ and $\\delta$ are the ra and dec of the star whose coordinates are being converted, and $b$ is its galactic latitude. These are then used to calculate the star's proper motion in $b$ and in its galactic longitude $l$ according to the equation:\n",
    "\n",
    "$$\\mu_{l} \\cos b = \\mu_{\\alpha} \\cos{\\delta} \\cos{\\phi} + \\mu_{\\delta} \\sin{\\phi}$$\n",
    "\n",
    "$$\\mu_{b} = \\mu_{\\delta} \\cos{\\phi} - \\mu_{\\alpha} \\cos{\\delta} \\sin{\\phi}$$\n",
    "\n",
    "Note that in the code, $\\textrm{pmra} \\equiv \\mu_{\\alpha} \\cos{\\delta}$ and $\\textrm{pml} \\equiv \\mu_{l} \\cos b$.\n",
    "\n",
    "After this, the program calculates $x$, $y$, and $z$ in galactic rectangular coordinates according to:\n",
    "\n",
    "$$x = d \\cos b \\cos l$$\n",
    "\n",
    "$$y = d \\cos b \\sin l$$\n",
    "\n",
    "$$z = d \\sin b$$\n",
    "\n",
    "Where $d$ is the distance to the star. Taking the time derivative of these equations allows us to calculate $v_x$, $v_y$, and $v_z$:\n",
    "\n",
    "$$v_x = v_r \\cos b \\cos l - d \\mu_b \\sin b \\cos l - d \\mu_l \\cos b \\sin l$$\n",
    "\n",
    "$$v_y = v_r \\cos b \\sin l - d \\mu_b \\sin b \\sin l + d \\mu_l \\cos b \\cos l$$\n",
    "\n",
    "$$v_z = v_r \\sin b + d \\mu_b \\cos b$$\n",
    "\n",
    "Where $d$ is the distance to the star. In the code, a conversion factor $k$ is used in the velocity equations to convert $\\textrm{kpc mas/yr}$ to $\\textrm{km/s}$. Once the units have been converted, the query checks for stars satisfying the equation:\n",
    "\n",
    "$$\\sqrt{(x-x_o)^2 + (y-y_0)^2 + (z-z_0)^2 + (A(v_x - v_{x_0}))^2 + (A(v_y - v_{y_0}))^2 + (A(v_z - v_{z_0}))^2} < \\epsilon$$\n",
    "\n",
    "Where $A$ is a scale factor that can be adjusted to weight the velocities similarly to the positions. Example usages are below."
   ]
  },
  {
   "cell_type": "code",
   "execution_count": 1,
   "metadata": {},
   "outputs": [
    {
     "name": "stdout",
     "output_type": "stream",
     "text": [
      "Created TAP+ (v1.0.1) - Connection:\n",
      "\tHost: gea.esac.esa.int\n",
      "\tUse HTTPS: False\n",
      "\tPort: 80\n",
      "\tSSL Port: 443\n"
     ]
    }
   ],
   "source": [
    "from search_phase_space import *"
   ]
  },
  {
   "cell_type": "code",
   "execution_count": 2,
   "metadata": {},
   "outputs": [
    {
     "name": "stdout",
     "output_type": "stream",
     "text": [
      "Help on function search_phase_space in module search_phase_space:\n",
      "\n",
      "search_phase_space(x, y, z, vx, vy, vz, epsilon, v_scale=1.0, cone_r=1.0)\n",
      "    NAME:\n",
      "        search_phase_space\n",
      "        \n",
      "    PURPOSE:\n",
      "        query the Gaia DR2 RV catalogue for stars near a point in phase space\n",
      "        \n",
      "    INPUT:\n",
      "        x - rectangular x coordinate in the galactic frame (can be Quantity,\n",
      "        otherwise given in kpc)\n",
      "        \n",
      "        y - rectangular y coordinate in the galactic frame (can be Quantity,\n",
      "        otherwise given in kpc)\n",
      "        \n",
      "        z - rectangular z coordinate in the galactic frame (can be Quantity,\n",
      "        otherwise given in kpc)\n",
      "        \n",
      "        vx - x velocity in the galactic frame (can be Quantity, otherwise given\n",
      "        in km/s)\n",
      "        \n",
      "        vy - y velocity in the galactic frame (can be Quantity, otherwise given\n",
      "        in km/s)\n",
      "        \n",
      "        vz - z velocity in the galactic frame (can be Quantity, otherwise given\n",
      "        in km/s)\n",
      "        \n",
      "        epsilon - radius in phase space in which to search for stars\n",
      "        \n",
      "        v_scale - scale factor for velocities used when calculating phase space\n",
      "        distances (optional; default = 1.0)\n",
      "        \n",
      "        cone_r - cone search radius used to limit the initial size of the query \n",
      "        (optional; given in degrees; default = 1.0)\n",
      "        \n",
      "    OUTPUT:\n",
      "        astropy Table, containing stars from the Gaia DR2 RV catalogue that are\n",
      "        within a distance of epsilon from the point (x, y, z, vx, vy, vz)\n",
      "        \n",
      "    HISTORY:\n",
      "        2018-05-24 - Written - Mathew Bub (UofT)\n",
      "\n"
     ]
    }
   ],
   "source": [
    "help(search_phase_space)"
   ]
  },
  {
   "cell_type": "code",
   "execution_count": 3,
   "metadata": {},
   "outputs": [
    {
     "name": "stdout",
     "output_type": "stream",
     "text": [
      "Query finished.\n"
     ]
    },
    {
     "data": {
      "text/html": [
       "<i>Table masked=True length=4</i>\n",
       "<table id=\"table2346553416336\" class=\"table-striped table-bordered table-condensed\">\n",
       "<thead><tr><th>x</th><th>y</th><th>z</th><th>vx</th><th>vy</th><th>vz</th></tr></thead>\n",
       "<thead><tr><th>float64</th><th>float64</th><th>float64</th><th>float64</th><th>float64</th><th>float64</th></tr></thead>\n",
       "<tr><td>0.3248547285099525</td><td>0.3279740455677438</td><td>0.3153034498744913</td><td>-0.29035230958035463</td><td>-5.1796266147947</td><td>-4.353165870439843</td></tr>\n",
       "<tr><td>0.2188858173997254</td><td>0.2178464318294424</td><td>0.22580041586685468</td><td>-1.275905453220787</td><td>3.428241380577102</td><td>-1.4298321419533973</td></tr>\n",
       "<tr><td>0.12780404047322055</td><td>0.12814092607639407</td><td>0.13156138199108242</td><td>1.046825144670162</td><td>3.4067004099763505</td><td>-1.123290133914609</td></tr>\n",
       "<tr><td>0.2843689575919812</td><td>0.2885781542557433</td><td>0.29174504457791295</td><td>-4.331893530634634</td><td>2.6449143076819963</td><td>6.045735212272312</td></tr>\n",
       "</table>"
      ],
      "text/plain": [
       "<Table masked=True length=4>\n",
       "         x                   y          ...          vz        \n",
       "      float64             float64       ...       float64      \n",
       "------------------- ------------------- ... -------------------\n",
       " 0.3248547285099525  0.3279740455677438 ...  -4.353165870439843\n",
       " 0.2188858173997254  0.2178464318294424 ... -1.4298321419533973\n",
       "0.12780404047322055 0.12814092607639407 ...  -1.123290133914609\n",
       " 0.2843689575919812  0.2885781542557433 ...   6.045735212272312"
      ]
     },
     "execution_count": 3,
     "metadata": {},
     "output_type": "execute_result"
    }
   ],
   "source": [
    "table = search_phase_space(1,1,1,1,1,1,10)\n",
    "table['x','y','z','vx','vy','vz']"
   ]
  },
  {
   "cell_type": "markdown",
   "metadata": {},
   "source": [
    "We will get different results if we adjust v_scale or epsilon."
   ]
  },
  {
   "cell_type": "code",
   "execution_count": 4,
   "metadata": {},
   "outputs": [
    {
     "name": "stdout",
     "output_type": "stream",
     "text": [
      "Query finished.\n"
     ]
    },
    {
     "data": {
      "text/plain": [
       "300"
      ]
     },
     "execution_count": 4,
     "metadata": {},
     "output_type": "execute_result"
    }
   ],
   "source": [
    "table = search_phase_space(1,1,1,1,1,1,10,v_scale=0.01)\n",
    "len(table)"
   ]
  },
  {
   "cell_type": "code",
   "execution_count": 5,
   "metadata": {},
   "outputs": [
    {
     "name": "stdout",
     "output_type": "stream",
     "text": [
      "Query finished.\n"
     ]
    },
    {
     "data": {
      "text/plain": [
       "241"
      ]
     },
     "execution_count": 5,
     "metadata": {},
     "output_type": "execute_result"
    }
   ],
   "source": [
    "table = search_phase_space(1,1,1,1,1,1,100)\n",
    "len(table)"
   ]
  },
  {
   "cell_type": "markdown",
   "metadata": {},
   "source": [
    "We can also change the initial search radius. This will allow us to check more stars, but will slow down the query."
   ]
  },
  {
   "cell_type": "code",
   "execution_count": 6,
   "metadata": {},
   "outputs": [
    {
     "name": "stdout",
     "output_type": "stream",
     "text": [
      "Query finished.\n",
      "Wall time: 7.68 s\n",
      "Query finished.\n",
      "Wall time: 9.6 s\n",
      "Query finished.\n",
      "Wall time: 17.6 s\n"
     ]
    }
   ],
   "source": [
    "%time table0 = search_phase_space(1,1,1,1,1,1,10)\n",
    "%time table1 = search_phase_space(1,1,1,1,1,1,10, cone_r = 5.0)\n",
    "%time table2 = search_phase_space(1,1,1,1,1,1,10, cone_r = 10.0)"
   ]
  }
 ],
 "metadata": {
  "kernelspec": {
   "display_name": "Python 3",
   "language": "python",
   "name": "python3"
  },
  "language_info": {
   "codemirror_mode": {
    "name": "ipython",
    "version": 3
   },
   "file_extension": ".py",
   "mimetype": "text/x-python",
   "name": "python",
   "nbconvert_exporter": "python",
   "pygments_lexer": "ipython3",
   "version": "3.6.1"
  }
 },
 "nbformat": 4,
 "nbformat_minor": 2
}
