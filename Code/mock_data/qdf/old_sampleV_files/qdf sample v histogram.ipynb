{
 "cells": [
  {
   "cell_type": "code",
   "execution_count": 1,
   "metadata": {},
   "outputs": [],
   "source": [
    "#import qdf related things\n",
    "from galpy.potential import MWPotential2014\n",
    "from galpy.actionAngle import actionAngleAdiabatic\n",
    "from galpy.df import quasiisothermaldf\n",
    "aA= actionAngleAdiabatic(pot=MWPotential2014,c=True)\n",
    "\n",
    "# set up qdf\n",
    "qdf= quasiisothermaldf(1./3.,0.2,0.1,1.,1.,pot=MWPotential2014,aA=aA,cutcounter=True)"
   ]
  },
  {
   "cell_type": "code",
   "execution_count": 8,
   "metadata": {},
   "outputs": [
    {
     "name": "stdout",
     "output_type": "stream",
     "text": [
      "Populating the interactive namespace from numpy and matplotlib\n",
      "c:\\users\\user\\anaconda3\\lib\\site-packages\\galpy\\df_src\\quasiisothermaldf.py:266: RuntimeWarning: divide by zero encountered in log\n",
      "  -kappa*jr*numpy.exp(-2.*lnsr)\n",
      "\n",
      "Optimization terminated successfully.\n",
      "         Current function value: -6.244277\n",
      "         Iterations: 1\n",
      "         Function evaluations: 14\n"
     ]
    },
    {
     "data": {
      "text/plain": [
       "(array([0.        , 0.        , 0.        , 0.        , 0.        ,\n",
       "        0.        , 0.        , 0.        , 0.        , 0.        ,\n",
       "        0.        , 0.        , 0.        , 0.        , 0.        ,\n",
       "        0.        , 0.        , 0.        , 0.        , 0.00673333,\n",
       "        0.        , 0.00673333, 0.01346667, 0.00673333, 0.00673333,\n",
       "        0.0404    , 0.01346667, 0.03366667, 0.0404    , 0.04713333,\n",
       "        0.101     , 0.0808    , 0.13466667, 0.19526667, 0.101     ,\n",
       "        0.19526667, 0.18853333, 0.2828    , 0.2222    , 0.26933333,\n",
       "        0.33666667, 0.43766667, 0.41746667, 0.5252    , 0.63293333,\n",
       "        0.6868    , 0.82146667, 0.93593333, 1.0302    , 1.1312    ,\n",
       "        1.07733333, 1.414     , 1.50153333, 1.69006667, 1.7574    ,\n",
       "        1.66986667, 2.04693333, 2.1816    , 2.1816    , 2.32973333,\n",
       "        2.57886667, 2.5654    , 2.3836    , 2.51153333, 2.7876    ,\n",
       "        2.63946667, 2.65293333, 2.5452    , 2.6866    , 2.23546667,\n",
       "        2.08733333, 2.1412    , 2.09406667, 1.64966667, 1.66313333,\n",
       "        1.31973333, 1.00326667, 0.93593333, 0.6262    , 0.49153333,\n",
       "        0.3434    , 0.23566667, 0.13466667, 0.08753333, 0.08753333,\n",
       "        0.02693333, 0.0202    , 0.        , 0.00673333, 0.        ,\n",
       "        0.        , 0.        , 0.        , 0.        , 0.        ,\n",
       "        0.        , 0.        , 0.        , 0.        , 0.        ,\n",
       "        0.        ]),\n",
       " array([0.        , 0.01485149, 0.02970297, 0.04455446, 0.05940594,\n",
       "        0.07425743, 0.08910891, 0.1039604 , 0.11881188, 0.13366337,\n",
       "        0.14851485, 0.16336634, 0.17821782, 0.19306931, 0.20792079,\n",
       "        0.22277228, 0.23762376, 0.25247525, 0.26732673, 0.28217822,\n",
       "        0.2970297 , 0.31188119, 0.32673267, 0.34158416, 0.35643564,\n",
       "        0.37128713, 0.38613861, 0.4009901 , 0.41584158, 0.43069307,\n",
       "        0.44554455, 0.46039604, 0.47524752, 0.49009901, 0.5049505 ,\n",
       "        0.51980198, 0.53465347, 0.54950495, 0.56435644, 0.57920792,\n",
       "        0.59405941, 0.60891089, 0.62376238, 0.63861386, 0.65346535,\n",
       "        0.66831683, 0.68316832, 0.6980198 , 0.71287129, 0.72772277,\n",
       "        0.74257426, 0.75742574, 0.77227723, 0.78712871, 0.8019802 ,\n",
       "        0.81683168, 0.83168317, 0.84653465, 0.86138614, 0.87623762,\n",
       "        0.89108911, 0.90594059, 0.92079208, 0.93564356, 0.95049505,\n",
       "        0.96534653, 0.98019802, 0.9950495 , 1.00990099, 1.02475248,\n",
       "        1.03960396, 1.05445545, 1.06930693, 1.08415842, 1.0990099 ,\n",
       "        1.11386139, 1.12871287, 1.14356436, 1.15841584, 1.17326733,\n",
       "        1.18811881, 1.2029703 , 1.21782178, 1.23267327, 1.24752475,\n",
       "        1.26237624, 1.27722772, 1.29207921, 1.30693069, 1.32178218,\n",
       "        1.33663366, 1.35148515, 1.36633663, 1.38118812, 1.3960396 ,\n",
       "        1.41089109, 1.42574257, 1.44059406, 1.45544554, 1.47029703,\n",
       "        1.48514851, 1.5       ]),\n",
       " <a list of 1 Patch objects>)"
      ]
     },
     "execution_count": 8,
     "metadata": {},
     "output_type": "execute_result"
    },
    {
     "data": {
      "image/png": "[encoded data removed]",
      "text/plain": [
       "<matplotlib.figure.Figure at 0x92da208>"
      ]
     },
     "metadata": {},
     "output_type": "display_data"
    }
   ],
   "source": [
    "%pylab inline\n",
    "vs= qdf.sampleV(1.,0.,n=10000)\n",
    "hist(vs[:,1],normed=True,histtype='step',bins=101,range=[0.,1.5])"
   ]
  },
  {
   "cell_type": "code",
   "execution_count": null,
   "metadata": {},
   "outputs": [],
   "source": []
  }
 ],
 "metadata": {
  "kernelspec": {
   "display_name": "Python 3",
   "language": "python",
   "name": "python3"
  },
  "language_info": {
   "codemirror_mode": {
    "name": "ipython",
    "version": 3
   },
   "file_extension": ".py",
   "mimetype": "text/x-python",
   "name": "python",
   "nbconvert_exporter": "python",
   "pygments_lexer": "ipython3",
   "version": "3.6.4"
  }
 },
 "nbformat": 4,
 "nbformat_minor": 2
}
