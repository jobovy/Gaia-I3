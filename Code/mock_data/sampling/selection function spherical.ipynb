{
 "cells": [
  {
   "cell_type": "code",
   "execution_count": 5,
   "metadata": {},
   "outputs": [],
   "source": [
    "import sys\n",
    "sys.path.append('../../')\n",
    "from search import search_local_distance\n",
    "import numpy as np\n",
    "from tools.tools import *\n",
    "import matplotlib.pyplot as plt\n",
    "from scipy.optimize import curve_fit"
   ]
  },
  {
   "cell_type": "markdown",
   "metadata": {},
   "source": [
    "Get gaia catalogue distance and distance error"
   ]
  },
  {
   "cell_type": "code",
   "execution_count": 6,
   "metadata": {},
   "outputs": [],
   "source": [
    "samples = search_local_distance.get_entire_catalogue()\n",
    "dist, dist_err = samples.T"
   ]
  },
  {
   "cell_type": "markdown",
   "metadata": {},
   "source": [
    "Define parammeters for making histogram. All units in kpc."
   ]
  },
  {
   "cell_type": "code",
   "execution_count": 7,
   "metadata": {},
   "outputs": [],
   "source": [
    "d_pixel = 0.001\n",
    "d_max = 6\n",
    "d_min = 0\n",
    "bins = int((d_max - d_min)/d_pixel)\n",
    "epsilon = 0.2\n",
    "bins_close = int((epsilon - d_min)/d_pixel)"
   ]
  },
  {
   "cell_type": "markdown",
   "metadata": {},
   "source": [
    "Get stars within epsilon kpc around sun as well as their error."
   ]
  },
  {
   "cell_type": "code",
   "execution_count": 8,
   "metadata": {},
   "outputs": [
    {
     "name": "stdout",
     "output_type": "stream",
     "text": [
      "(366209,) (366209,)\n"
     ]
    }
   ],
   "source": [
    "mask = dist < epsilon\n",
    "dist_close = dist[mask]\n",
    "dist_close_err = dist_err[mask]"
   ]
  },
  {
   "cell_type": "markdown",
   "metadata": {},
   "source": [
    "Graph 1D histogram for distribution of distance for all of gaia catalogue"
   ]
  },
  {
   "cell_type": "code",
   "execution_count": null,
   "metadata": {},
   "outputs": [],
   "source": [
    "histogram_gaia, edges, patches = plt.hist(dist_coord, bins = bins_d, range = (d_min, d_max))"
   ]
  },
  {
   "cell_type": "markdown",
   "metadata": {},
   "source": [
    "Graph 1D histogram for distribution of distance for all stars in epsilon region"
   ]
  },
  {
   "cell_type": "code",
   "execution_count": null,
   "metadata": {},
   "outputs": [],
   "source": [
    "histogram_close, edges_close, patches_close = plt.hist(dist_close, bins = bins_close)"
   ]
  },
  {
   "cell_type": "markdown",
   "metadata": {},
   "source": [
    "Define a function that get the gaia spherical number density function from histogram result"
   ]
  },
  {
   "cell_type": "code",
   "execution_count": null,
   "metadata": {},
   "outputs": [],
   "source": [
    "def n_gaia(d, histogram):\n",
    "    d_index = ((d-d_min)/d_pixel).astype(int)-1\n",
    "    result = []\n",
    "    for i in range(np.size(d)):\n",
    "        result.append(histogram[d_index[i]])\n",
    "    return np.array(result)"
   ]
  },
  {
   "cell_type": "markdown",
   "metadata": {},
   "source": [
    "Define the true sperhical number density function"
   ]
  },
  {
   "cell_type": "code",
   "execution_count": null,
   "metadata": {},
   "outputs": [],
   "source": [
    "def n(d, n_0):\n",
    "    return n_0*4*(np.pi)*(d**2)"
   ]
  },
  {
   "cell_type": "markdown",
   "metadata": {},
   "source": [
    "Curve fit spherical density with stars in epsilon region."
   ]
  },
  {
   "cell_type": "code",
   "execution_count": null,
   "metadata": {},
   "outputs": [],
   "source": [
    "popt, pcov = curve_fit(n_spherical, dist_close, n_gaia(dist_close, histogram_close))\n",
    "n_0 = popt[0]\n",
    "std_n_0 = pcov[0][0]\n",
    "print(\"optimized n_0 =\", n_0)\n",
    "print(\"standard deviation of n_0 =\", std_n_0)"
   ]
  },
  {
   "cell_type": "markdown",
   "metadata": {},
   "source": [
    "Plot theoretical prediction over histogram in epsilon neighborhood."
   ]
  },
  {
   "cell_type": "code",
   "execution_count": null,
   "metadata": {
    "scrolled": true
   },
   "outputs": [],
   "source": [
    "plt.hist(dist_close, bins = bins_close)\n",
    "d_linspace = np.linspace(d_min, epsilon, bins_close, endpoint = False)\n",
    "plt.plot(d_linspace, n(d_linspace, n_0))"
   ]
  },
  {
   "cell_type": "markdown",
   "metadata": {},
   "source": [
    "Plot theoretical prediction over real histogram for all stars."
   ]
  },
  {
   "cell_type": "code",
   "execution_count": null,
   "metadata": {},
   "outputs": [],
   "source": [
    "plt.hist(dist_coord, bins = bins_d, range = (d_min, d_max))\n",
    "plt.xlim(0,0.5)\n",
    "d_linspace = np.linspace(d_min, epsilon, bins, endpoint = False)\n",
    "plt.plot(d_linspace, n(d_linspace, n_0))"
   ]
  },
  {
   "cell_type": "markdown",
   "metadata": {},
   "source": [
    "Calculate the Pearson Chi Square statistic"
   ]
  },
  {
   "cell_type": "code",
   "execution_count": null,
   "metadata": {},
   "outputs": [],
   "source": []
  },
  {
   "cell_type": "code",
   "execution_count": null,
   "metadata": {},
   "outputs": [],
   "source": []
  },
  {
   "cell_type": "code",
   "execution_count": null,
   "metadata": {},
   "outputs": [],
   "source": []
  },
  {
   "cell_type": "code",
   "execution_count": null,
   "metadata": {},
   "outputs": [],
   "source": []
  },
  {
   "cell_type": "code",
   "execution_count": null,
   "metadata": {},
   "outputs": [],
   "source": []
  },
  {
   "cell_type": "code",
   "execution_count": null,
   "metadata": {},
   "outputs": [],
   "source": []
  }
 ],
 "metadata": {
  "kernelspec": {
   "display_name": "Python 3",
   "language": "python",
   "name": "python3"
  },
  "language_info": {
   "codemirror_mode": {
    "name": "ipython",
    "version": 3
   },
   "file_extension": ".py",
   "mimetype": "text/x-python",
   "name": "python",
   "nbconvert_exporter": "python",
   "pygments_lexer": "ipython3",
   "version": "3.6.4"
  }
 },
 "nbformat": 4,
 "nbformat_minor": 2
}
