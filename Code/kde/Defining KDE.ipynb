{
 "cells": [
  {
   "cell_type": "markdown",
   "metadata": {},
   "source": [
    "## Defining a KDE Function to Evaluate Six Dimensional Position-Velocity Space"
   ]
  },
  {
   "cell_type": "markdown",
   "metadata": {},
   "source": [
    "**What is a KDE?**\n",
    "\n",
    "In a kernel density estimation, each point of data is transformed into individual kernels which combine together to give a smooth probability density function for the input parameter(s). This proves useful as a regular histogram-style density estimate would not be differentiable but a kernel density estimate is.\n",
    "\n",
    "**Using `sklearn.neighbors.KernelDensity`:**\n",
    "\n",
    "There are six kernels that are currently avaliable with this module (gaussian, tophat, epanechnikov, exponential, linear, cosine). The methods from this module that were used are as follows:\n",
    "\n",
    "`fit` takes in an NxM matrix of N data points and M parameters and fits them to the specified kernel and bandwidth.\n",
    "\n",
    "`score_samples` takes in an array of points that are being queried and applies these points to the previously `fit` data. The input would be a QxM matrix of Q sets of points and M parameters and the output gives a 1xQ array of logarithmic probabilities at each of the points.\n",
    "\n",
    "For more practical purposes the function converts the logarithmic probabilities to standard by taking an exponential. For the complete original documentation:\n",
    "\n",
    "http://scikit-learn.org/stable/modules/generated/sklearn.neighbors.KernelDensity.html#sklearn.neighbors.KernelDensity\n",
    "\n",
    "**Optimizing the bandwidth and `scipy.stats.iqr`:**\n",
    "\n",
    "The bandwidth is optimized in terms of Scott's Rule of Thumb, which follows the model: \n",
    "\n",
    "$bw = {1.059}{(A)}{(N)}^{(-1/5)}$, where $A = min(std(X),\\frac{IQR}{1.34})$\n",
    "\n",
    "In this case X is the inputs (an NxM matrix of N points and M parameters) and the IQR is the difference between the 75th and 25th percentile of the data. It is a measure of the dispersion similar to standard deviation or variance, but is much more robust against outliers.\n",
    "\n",
    "To compute the IQR, we have used `scipy.stats.iqr` which takes inputs N and X, with N being the number of objects and X similarly defined as above. This outputs the IQR of our input data which is then used to compute the optimized bandwidth based on Scott's Rule of Thumb as defined above.\n",
    "\n",
    "**Regarding inputs and `np.std` scaling:**\n",
    "\n",
    "Each parameter space has its standard deviation taken and both `inputs` and `samples` are divided by these 6 values. This process normalizes the vecloities and positions to similar magnitudes in 6 dimensional space. It is required as the velocities magnitudes are generally much larger and span a larger range than the positions as well as differing units and because the kernel that is selected is applied analogously to all 6 dimensions."
   ]
  },
  {
   "cell_type": "code",
   "execution_count": 1,
   "metadata": {},
   "outputs": [],
   "source": [
    "#Importing the required modules\n",
    "import numpy as np\n",
    "from sklearn.neighbors import KernelDensity\n",
    "\n",
    "#Defining a KDE function to quickly compute probabilities for the data set\n",
    "def generate_KDE(inputs, ker):\n",
    "    \"\"\"\n",
    "    NAME:\n",
    "        generate_KDE\n",
    "    \n",
    "    PURPOSE:\n",
    "        Given an NxM matrix for inputs and one of six avaliable ker strings, \n",
    "        outputs a function `input_DKE` that treats the density estimate as a \n",
    "        black box function that can be sampled.\n",
    "    \n",
    "    INPUT:\n",
    "        inputs (ndarray) = An NxM matrix where N is the number of data \n",
    "                           points and M is the number of parameters.\n",
    "        ker (string) = One of the 6 avaliable kernel types (gaussian, \n",
    "                       tophat, epanechnikov, exponential, linear, cosine).\n",
    "    \n",
    "    OUTPUT:\n",
    "        input_KDE (function) = A blackbox function for the density estimate\n",
    "                               used for sampling data.\n",
    "                               \n",
    "    HISTORY:\n",
    "        2018-06-25 - Updated - Ayush Pandhi\n",
    "    \"\"\"\n",
    "    #Scaling velocities with z-score\n",
    "    inputs_std = np.nanstd(inputs, axis=0)\n",
    "    i1, i2, i3, i4, i5, i6 = np.mean(inputs, axis=0)\n",
    "    inputs_mean = np.hstack((i1, i2, i3, i4, i5, i6))\n",
    "    inputs = (inputs - inputs_mean)/inputs_std\n",
    "    \n",
    "    #Optimizing bandwidth in terms of Scott's Multivariate Rule of Thumb\n",
    "    shape_string = str(inputs.shape)\n",
    "    objects, parameters = shape_string.split(', ')\n",
    "    N_string = objects[1:]\n",
    "    N = int(N_string)\n",
    "    bw = 5 * np.nanstd(inputs) * N ** (-1/10.)\n",
    "    \n",
    "    #Fit data points to selected kernel and bandwidth\n",
    "    kde = KernelDensity(kernel=ker, bandwidth=bw).fit(inputs)  \n",
    "    \n",
    "    def input_KDE(samples):\n",
    "        \"\"\"\n",
    "        NAME:\n",
    "            input_KDE\n",
    "    \n",
    "        PURPOSE:\n",
    "            Given a QxM matrix for samples, evaluates the blackbox density\n",
    "            estimate function at those points to output a 1xQ array of \n",
    "            density values.\n",
    "    \n",
    "        INPUT:\n",
    "            samples (ndarray) = A QxM matrix where Q is the number of points \n",
    "                                at which the kde is being evaluated and M is \n",
    "                                the number of parameters.\n",
    "                                \n",
    "        OUTPUT:\n",
    "            dens (ndarray) = A 1xQ array of density values for Q data points.\n",
    "                               \n",
    "        HISTORY:\n",
    "            2018-06-25 - Updated - Ayush Pandhi\n",
    "        \"\"\"\n",
    "        #To correct the type of information from other functions into acceptable input\n",
    "        #samples = np.array([samples])\n",
    "        \n",
    "        #Scaling samples with standard deviation\n",
    "        samples = (samples - inputs_mean)/inputs_std\n",
    "        \n",
    "        #Get the log density for selected samples and apply exponential to get normal probabilities\n",
    "        log_dens = kde.score_samples(samples)\n",
    "        dens = np.exp(log_dens)\n",
    "        \n",
    "        #Return a 1xQ array of normal probabilities for the selected sample\n",
    "        return dens\n",
    "    \n",
    "    #Return a black box function for sampling\n",
    "    return input_KDE"
   ]
  },
  {
   "cell_type": "markdown",
   "metadata": {},
   "source": [
    "The following section tests this function on some mock data. For more details about the setup for the mock data, see `sampling_R^6_to_R^6.ipynb` by Michael Poon. It is serves as a good example to see the shapes and types of inputs to avoid getting dimensional errors with the function."
   ]
  },
  {
   "cell_type": "code",
   "execution_count": 2,
   "metadata": {},
   "outputs": [
    {
     "name": "stdout",
     "output_type": "stream",
     "text": [
      "[[5.2727272727272725, 2.090909090909091, 8.272727272727273, 8.0, 3.090909090909091, 1.8181818181818183], [6.818181818181818, 8.727272727272727, 9.545454545454545, 3.090909090909091, 1.3636363636363638, 9.727272727272727], [2.8181818181818183, 5.090909090909091, 6.636363636363637, 6.818181818181818, 3.4545454545454546, 7.909090909090909], [8.0, 8.272727272727273, 2.0, 1.8181818181818183, 9.727272727272727, 3.4545454545454546], [3.4545454545454546, 1.4545454545454546, 1.9090909090909092, 8.181818181818182, 2.909090909090909, 6.0], [9.090909090909092, 5.818181818181818, 8.0, 8.818181818181818, 9.454545454545455, 4.818181818181818], [3.3636363636363638, 9.818181818181818, 5.545454545454546, 7.2727272727272725, 10.0, 8.0], [7.636363636363637, 3.1818181818181817, 9.90909090909091, 4.636363636363637, 3.8181818181818183, 5.2727272727272725], [2.4545454545454546, 8.09090909090909, 8.545454545454547, 6.090909090909091, 3.3636363636363638, 5.818181818181818], [5.636363636363637, 2.7272727272727275, 6.454545454545455, 3.1818181818181817, 5.181818181818182, 2.4545454545454546]]\n"
     ]
    }
   ],
   "source": [
    "#Testing with mock data\n",
    "import random\n",
    "\n",
    "mock_data3 = []\n",
    "for i in range(10):\n",
    "    select_random = np.linspace(1.0, 10.0, 100)\n",
    "    x4 = random.choice(select_random)\n",
    "    x5 = random.choice(select_random)\n",
    "    x6 = random.choice(select_random)\n",
    "    x1 = random.choice(select_random)\n",
    "    x2 = random.choice(select_random)\n",
    "    x3 = random.choice(select_random)\n",
    "    mock_data3.append([x1, x2, x3, x4, x5, x6])\n",
    "print(mock_data3)"
   ]
  },
  {
   "cell_type": "code",
   "execution_count": 3,
   "metadata": {},
   "outputs": [
    {
     "data": {
      "text/plain": [
       "array([[ 9.27272727,  2.81818182,  6.09090909,  5.27272727,  1.27272727,\n",
       "         7.09090909],\n",
       "       [ 7.90909091,  5.81818182,  7.72727273,  4.90909091,  3.54545455,\n",
       "         5.09090909],\n",
       "       [ 8.72727273,  6.18181818,  6.18181818,  5.09090909,  9.18181818,\n",
       "         3.54545455],\n",
       "       [ 1.        ,  8.09090909,  5.27272727,  1.18181818,  4.81818182,\n",
       "         2.63636364],\n",
       "       [ 5.27272727,  5.09090909,  3.18181818,  2.09090909,  4.27272727,\n",
       "         4.45454545],\n",
       "       [ 5.45454545,  3.90909091,  1.        ,  7.81818182,  9.81818182,\n",
       "         7.18181818],\n",
       "       [ 5.81818182,  6.27272727,  9.90909091,  2.18181818,  8.36363636,\n",
       "         7.72727273],\n",
       "       [ 6.18181818,  2.90909091,  2.36363636,  1.09090909,  1.09090909,\n",
       "         4.54545455],\n",
       "       [ 2.18181818,  4.36363636,  2.18181818,  4.09090909,  5.18181818,\n",
       "         5.54545455],\n",
       "       [ 1.        , 10.        ,  3.90909091,  5.54545455,  7.18181818,\n",
       "         2.90909091]])"
      ]
     },
     "execution_count": 3,
     "metadata": {},
     "output_type": "execute_result"
    }
   ],
   "source": [
    "a = np.array(mock_data3)\n",
    "samples_random = [[1, 2, 3, 4, 5, 6]]\n",
    "b = np.array(samples_random)\n",
    "samples_all = [[9.272727272727273, 2.8181818181818183, 6.090909090909091, 5.2727272727272725, 1.2727272727272727, 7.090909090909091], [7.909090909090909, 5.818181818181818, 7.7272727272727275, 4.909090909090909, 3.5454545454545454, 5.090909090909091], [8.727272727272727, 6.181818181818182, 6.181818181818182, 5.090909090909091, 9.181818181818182, 3.5454545454545454], [1.0, 8.09090909090909, 5.2727272727272725, 1.1818181818181819, 4.818181818181818, 2.6363636363636367], [5.2727272727272725, 5.090909090909091, 3.1818181818181817, 2.090909090909091, 4.272727272727273, 4.454545454545455], [5.454545454545455, 3.909090909090909, 1.0, 7.818181818181818, 9.818181818181818, 7.181818181818182], [5.818181818181818, 6.2727272727272725, 9.90909090909091, 2.1818181818181817, 8.363636363636363, 7.7272727272727275], [6.181818181818182, 2.909090909090909, 2.3636363636363638, 1.0909090909090908, 1.0909090909090908, 4.545454545454545], [2.1818181818181817, 4.363636363636363, 2.1818181818181817, 4.090909090909091, 5.181818181818182, 5.545454545454546], [1.0, 10.0, 3.909090909090909, 5.545454545454546, 7.181818181818182, 2.909090909090909]]\n",
    "c = np.array(samples_all)\n",
    "c"
   ]
  },
  {
   "cell_type": "code",
   "execution_count": 4,
   "metadata": {},
   "outputs": [
    {
     "data": {
      "text/plain": [
       "array([5.84976224e-05, 9.93437430e-05, 6.81498016e-05, 2.43654589e-05,\n",
       "       6.74144365e-05, 3.89573675e-05, 6.10859931e-05, 2.99994672e-05,\n",
       "       6.17467147e-05, 3.48802792e-05])"
      ]
     },
     "execution_count": 4,
     "metadata": {},
     "output_type": "execute_result"
    }
   ],
   "source": [
    "blackbox = generate_KDE(a, 'epanechnikov')\n",
    "blackbox(c)"
   ]
  }
 ],
 "metadata": {
  "kernelspec": {
   "display_name": "Python 3",
   "language": "python",
   "name": "python3"
  },
  "language_info": {
   "codemirror_mode": {
    "name": "ipython",
    "version": 3
   },
   "file_extension": ".py",
   "mimetype": "text/x-python",
   "name": "python",
   "nbconvert_exporter": "python",
   "pygments_lexer": "ipython3",
   "version": "3.6.4"
  }
 },
 "nbformat": 4,
 "nbformat_minor": 2
}
